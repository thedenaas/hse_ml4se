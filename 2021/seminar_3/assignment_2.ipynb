{
 "cells": [
  {
   "cell_type": "markdown",
   "id": "5290e89b",
   "metadata": {},
   "source": [
    "# Assignment 2\n",
    "\n",
    "Train FFNN, beat baselines.  \n",
    "You can use Google Collab, Kaggle kernels or any other devices.  \n",
    "Here you can use only `numpy`, `pandas`, `sklearn` and `pytorch`"
   ]
  },
  {
   "cell_type": "code",
   "execution_count": 1,
   "id": "9f5b0cc9",
   "metadata": {},
   "outputs": [
    {
     "name": "stdout",
     "output_type": "stream",
     "text": [
      "1.21.2 1.9.1\n"
     ]
    }
   ],
   "source": [
    "import numpy as np\n",
    "import pandas as pd\n",
    "import matplotlib.pyplot as plt\n",
    "from sklearn.model_selection import train_test_split\n",
    "\n",
    "%matplotlib inline\n",
    "\n",
    "import torch\n",
    "import torch.nn as nn\n",
    "import torch.optim as optim\n",
    "\n",
    "from torch.utils.data import DataLoader, TensorDataset\n",
    "from tqdm import tqdm\n",
    "\n",
    "# fix SEED for reproducible experiment\n",
    "SEED = 42\n",
    "np.random.seed(SEED)\n",
    "torch.cuda.manual_seed(SEED)\n",
    "torch.manual_seed(SEED)\n",
    "\n",
    "print(np.__version__, torch.__version__)"
   ]
  },
  {
   "cell_type": "code",
   "execution_count": 2,
   "id": "8260212a",
   "metadata": {},
   "outputs": [],
   "source": [
    "# toy dataset from https://github.com/greydanus/mnist1d\n",
    "\n",
    "import requests, pickle\n",
    "\n",
    "url = 'https://github.com/greydanus/mnist1d/raw/master/mnist1d_data.pkl'\n",
    "r = requests.get(url, allow_redirects=True)\n",
    "open('./mnist1d_data.pkl', 'wb').write(r.content)\n",
    "\n",
    "with open('./mnist1d_data.pkl', 'rb') as handle:\n",
    "    data = pickle.load(handle)\n",
    "    "
   ]
  },
  {
   "cell_type": "code",
   "execution_count": 3,
   "id": "229a6170",
   "metadata": {},
   "outputs": [
    {
     "name": "stdout",
     "output_type": "stream",
     "text": [
      "train data shape:(3600, 40) # classes 10\n",
      "validation data size:400\n",
      "test data size:1000\n"
     ]
    }
   ],
   "source": [
    "X_train, y_train = data['x'], data['y'].reshape(-1,1)\n",
    "X_test, y_test = data['x_test'], data['y_test'].reshape(-1,1)\n",
    "\n",
    "# create validation dataset\n",
    "X_train, X_val, y_train, y_val = train_test_split(X_train, y_train, \n",
    "                                                  test_size=0.1, stratify=y_train, \n",
    "                                                 random_state=SEED)\n",
    "    \n",
    "print('train data shape:{} # classes {}'.format(X_train.shape, len(np.unique(y_train))))\n",
    "print('validation data size:{}'.format(X_val.shape[0]))\n",
    "print('test data size:{}'.format(X_test.shape[0]))"
   ]
  },
  {
   "cell_type": "code",
   "execution_count": 4,
   "id": "c0f1d32f",
   "metadata": {},
   "outputs": [],
   "source": [
    "# batch size is an important hyperparameter\n",
    "# make sure you have enough memory to contain batch data and the model\n",
    "batch_size = 64\n",
    "\n",
    "train_loader = DataLoader(TensorDataset(\n",
    "    torch.from_numpy(X_train).float(), \n",
    "    torch.from_numpy(y_train)),\n",
    "    batch_size=batch_size, \n",
    "    shuffle=True # it's important to shuffle train dataset every epoch\n",
    "    )\n",
    "\n",
    "val_loader = DataLoader(TensorDataset(\n",
    "    torch.from_numpy(X_val).float(), \n",
    "    torch.from_numpy(y_val)),\n",
    "    batch_size=batch_size, \n",
    "    shuffle=False \n",
    ")\n",
    "\n",
    "\n",
    "test_loader = DataLoader(TensorDataset(\n",
    "    torch.from_numpy(X_test).float(), \n",
    "    torch.from_numpy(y_test)),\n",
    "    batch_size=batch_size, \n",
    "    shuffle=False \n",
    ")"
   ]
  },
  {
   "cell_type": "markdown",
   "id": "1feb8e13",
   "metadata": {},
   "source": [
    "## Task 1 (2 points)\n",
    "\n",
    "Implement early stopping  "
   ]
  },
  {
   "cell_type": "code",
   "execution_count": 5,
   "id": "0c5c19b6",
   "metadata": {},
   "outputs": [],
   "source": [
    "def train(model, train_loader, val_loader, n_epochs, criterion, device, checkdir=None, patience=0):\n",
    "    \"\"\"\n",
    "    train_loader: loader of train dataset\n",
    "    val_loader: loader of validation dataset\n",
    "    n_epochs: max epochs to train\n",
    "    device: cpu or gpu\n",
    "    checkdir: folder to save model weights\n",
    "    patience: how many epochs we tolerate the increasing validation loss\n",
    "    \"\"\"\n",
    "    history = []\n",
    "    \n",
    "    # number of batches in an epoch\n",
    "    n_batches = int(np.ceil(len(train_loader.dataset) / batch_size))\n",
    "\n",
    "    for epoch in range(n_epochs):\n",
    "\n",
    "        # training mode: affects BatchNorm, Dropout, etc.\n",
    "        model.train()\n",
    "\n",
    "        # make progressbar\n",
    "        batch_iter = tqdm(enumerate(train_loader), total=n_batches, desc='epoch %d' % (epoch + 1), leave=True)\n",
    "\n",
    "        train_loss = 0\n",
    "        for i, (X, y) in batch_iter:\n",
    "\n",
    "            # move data to selected device\n",
    "            X = X.to(device)\n",
    "            y = y.to(device)\n",
    "\n",
    "            # set weight gradient to 0\n",
    "            optimizer.zero_grad()\n",
    "\n",
    "            # make forward pass\n",
    "            prediction = model(X)\n",
    "\n",
    "            # compute loss\n",
    "            loss = criterion(prediction, y.squeeze())\n",
    "\n",
    "            # make backward pass: compute gradient for each weight\n",
    "            loss.backward()\n",
    "            # make optimization step\n",
    "            optimizer.step()\n",
    "\n",
    "            # average train loss\n",
    "            train_loss = train_loss*i/(i+1) + loss.data.cpu().detach().item()/(i+1)\n",
    "\n",
    "            batch_iter.set_postfix(loss='%.4f' % train_loss)\n",
    "\n",
    "        # inference mode: affects BatchNorm, Dropout, etc. \n",
    "        model.eval()\n",
    "        val_loss = []\n",
    "\n",
    "        # we don't update weights on inference: no need for gradient\n",
    "        with torch.no_grad():\n",
    "            for X, y in val_loader:\n",
    "                # move data to selected device\n",
    "                X = X.to(device)\n",
    "                y = y.to(device)\n",
    "\n",
    "                # make prediction\n",
    "                prediction = model(X)\n",
    "                loss = criterion(prediction, y.squeeze())\n",
    "                # move batch loss from device to cpu\n",
    "                loss = loss.data.cpu().detach().item()\n",
    "                val_loss.append( loss )\n",
    "\n",
    "        val_loss = np.mean(val_loss)\n",
    "        \n",
    "        # TODO: early stopping\n",
    "\n",
    "        print('validation loss=%.4f' % val_loss)\n",
    "        \n",
    "        # save model weights on each epoch\n",
    "        if checkdir:\n",
    "            torch.save(model.state_dict(), checkdir + '/epoch_%d_val_loss_%f' % (epoch, val_loss))\n",
    "\n",
    "        history.append({\n",
    "            'epoch': epoch,\n",
    "            'train_loss': train_loss,\n",
    "            'val_loss': val_loss,\n",
    "        })\n",
    "\n",
    "    return pd.DataFrame(history)"
   ]
  },
  {
   "cell_type": "code",
   "execution_count": 6,
   "id": "afcd885d",
   "metadata": {},
   "outputs": [],
   "source": [
    "class FFNN(nn.Module):\n",
    "    \n",
    "    def __init__(self, input_size, output_size, h_size, n_blocks, dropout_p):\n",
    "        \"\"\"\n",
    "        input_size: number of features\n",
    "        output_size: number of classes\n",
    "        h_size: size of hidden layer\n",
    "        n_blocks: number of hidden layers\n",
    "        dropout_p: dropout rate\n",
    "        \"\"\"\n",
    "        super(FFNN, self).__init__()\n",
    "        \n",
    "        self.mlp = [\n",
    "            # normalize input\n",
    "            nn.BatchNorm1d(input_size),\n",
    "            # project data into hidden feature space\n",
    "            nn.Linear(input_size, h_size),\n",
    "            # some activation funtion\n",
    "            nn.PReLU(),\n",
    "            nn.Dropout(dropout_p),\n",
    "        ]\n",
    "        \n",
    "        # \"basic\" blocks\n",
    "        for i in range(n_blocks):\n",
    "            self.mlp.extend([\n",
    "                nn.Linear(h_size,h_size),\n",
    "                nn.BatchNorm1d(h_size),\n",
    "                nn.PReLU(),\n",
    "                nn.Dropout(dropout_p),\n",
    "            ])\n",
    "            \n",
    "        # output layer: classification\n",
    "        self.mlp.append(nn.Linear(h_size, output_size))\n",
    "        self.mlp = nn.Sequential(*self.mlp)\n",
    "        \n",
    "        \n",
    "\n",
    "    def forward(self, x):\n",
    "        x = self.mlp(x)\n",
    "        return x"
   ]
  },
  {
   "cell_type": "code",
   "execution_count": 15,
   "id": "9a166eb3",
   "metadata": {},
   "outputs": [],
   "source": [
    "# clean checkpoint directory\n",
    "!rm -rf checkdir\n",
    "!mkdir checkdir"
   ]
  },
  {
   "cell_type": "code",
   "execution_count": 20,
   "id": "fd593847",
   "metadata": {
    "scrolled": true
   },
   "outputs": [
    {
     "name": "stderr",
     "output_type": "stream",
     "text": [
      "epoch 1: 100%|████████████████████| 57/57 [00:00<00:00, 338.72it/s, loss=1.9964]\n"
     ]
    },
    {
     "name": "stdout",
     "output_type": "stream",
     "text": [
      "validation loss=1.8197\n"
     ]
    },
    {
     "name": "stderr",
     "output_type": "stream",
     "text": [
      "epoch 2: 100%|████████████████████| 57/57 [00:00<00:00, 394.65it/s, loss=1.7247]\n"
     ]
    },
    {
     "name": "stdout",
     "output_type": "stream",
     "text": [
      "validation loss=1.6851\n"
     ]
    },
    {
     "name": "stderr",
     "output_type": "stream",
     "text": [
      "epoch 3: 100%|████████████████████| 57/57 [00:00<00:00, 392.30it/s, loss=1.5920]\n"
     ]
    },
    {
     "name": "stdout",
     "output_type": "stream",
     "text": [
      "validation loss=1.5472\n"
     ]
    },
    {
     "name": "stderr",
     "output_type": "stream",
     "text": [
      "epoch 4: 100%|████████████████████| 57/57 [00:00<00:00, 396.93it/s, loss=1.4551]\n"
     ]
    },
    {
     "name": "stdout",
     "output_type": "stream",
     "text": [
      "validation loss=1.4574\n"
     ]
    },
    {
     "name": "stderr",
     "output_type": "stream",
     "text": [
      "epoch 5: 100%|████████████████████| 57/57 [00:00<00:00, 372.46it/s, loss=1.4070]\n"
     ]
    },
    {
     "name": "stdout",
     "output_type": "stream",
     "text": [
      "validation loss=1.4280\n"
     ]
    },
    {
     "name": "stderr",
     "output_type": "stream",
     "text": [
      "epoch 6: 100%|████████████████████| 57/57 [00:00<00:00, 366.50it/s, loss=1.3483]\n"
     ]
    },
    {
     "name": "stdout",
     "output_type": "stream",
     "text": [
      "validation loss=1.3642\n"
     ]
    },
    {
     "name": "stderr",
     "output_type": "stream",
     "text": [
      "epoch 7: 100%|████████████████████| 57/57 [00:00<00:00, 359.91it/s, loss=1.2860]\n"
     ]
    },
    {
     "name": "stdout",
     "output_type": "stream",
     "text": [
      "validation loss=1.3087\n"
     ]
    },
    {
     "name": "stderr",
     "output_type": "stream",
     "text": [
      "epoch 8: 100%|████████████████████| 57/57 [00:00<00:00, 392.41it/s, loss=1.2126]\n"
     ]
    },
    {
     "name": "stdout",
     "output_type": "stream",
     "text": [
      "validation loss=1.2728\n"
     ]
    },
    {
     "name": "stderr",
     "output_type": "stream",
     "text": [
      "epoch 9: 100%|████████████████████| 57/57 [00:00<00:00, 409.52it/s, loss=1.1573]\n"
     ]
    },
    {
     "name": "stdout",
     "output_type": "stream",
     "text": [
      "validation loss=1.2250\n"
     ]
    },
    {
     "name": "stderr",
     "output_type": "stream",
     "text": [
      "epoch 10: 100%|███████████████████| 57/57 [00:00<00:00, 386.49it/s, loss=1.1342]\n"
     ]
    },
    {
     "name": "stdout",
     "output_type": "stream",
     "text": [
      "validation loss=1.1951\n"
     ]
    },
    {
     "name": "stderr",
     "output_type": "stream",
     "text": [
      "epoch 11: 100%|███████████████████| 57/57 [00:00<00:00, 394.81it/s, loss=1.0958]\n"
     ]
    },
    {
     "name": "stdout",
     "output_type": "stream",
     "text": [
      "validation loss=1.1836\n"
     ]
    },
    {
     "name": "stderr",
     "output_type": "stream",
     "text": [
      "epoch 12: 100%|███████████████████| 57/57 [00:00<00:00, 397.56it/s, loss=1.0648]\n"
     ]
    },
    {
     "name": "stdout",
     "output_type": "stream",
     "text": [
      "validation loss=1.1638\n"
     ]
    },
    {
     "name": "stderr",
     "output_type": "stream",
     "text": [
      "epoch 13: 100%|███████████████████| 57/57 [00:00<00:00, 396.11it/s, loss=1.0386]\n"
     ]
    },
    {
     "name": "stdout",
     "output_type": "stream",
     "text": [
      "validation loss=1.1467\n"
     ]
    },
    {
     "name": "stderr",
     "output_type": "stream",
     "text": [
      "epoch 14: 100%|███████████████████| 57/57 [00:00<00:00, 403.42it/s, loss=1.0422]\n"
     ]
    },
    {
     "name": "stdout",
     "output_type": "stream",
     "text": [
      "validation loss=1.1684\n"
     ]
    },
    {
     "name": "stderr",
     "output_type": "stream",
     "text": [
      "epoch 15: 100%|███████████████████| 57/57 [00:00<00:00, 407.11it/s, loss=1.0076]\n"
     ]
    },
    {
     "name": "stdout",
     "output_type": "stream",
     "text": [
      "validation loss=1.2070\n"
     ]
    },
    {
     "name": "stderr",
     "output_type": "stream",
     "text": [
      "epoch 16: 100%|███████████████████| 57/57 [00:00<00:00, 401.93it/s, loss=1.0041]\n"
     ]
    },
    {
     "name": "stdout",
     "output_type": "stream",
     "text": [
      "validation loss=1.1633\n"
     ]
    },
    {
     "name": "stderr",
     "output_type": "stream",
     "text": [
      "epoch 17: 100%|███████████████████| 57/57 [00:00<00:00, 405.95it/s, loss=0.9744]\n"
     ]
    },
    {
     "name": "stdout",
     "output_type": "stream",
     "text": [
      "validation loss=1.1380\n"
     ]
    },
    {
     "name": "stderr",
     "output_type": "stream",
     "text": [
      "epoch 18: 100%|███████████████████| 57/57 [00:00<00:00, 389.38it/s, loss=0.9606]\n"
     ]
    },
    {
     "name": "stdout",
     "output_type": "stream",
     "text": [
      "validation loss=1.1394\n"
     ]
    },
    {
     "name": "stderr",
     "output_type": "stream",
     "text": [
      "epoch 19: 100%|███████████████████| 57/57 [00:00<00:00, 361.06it/s, loss=0.9570]\n"
     ]
    },
    {
     "name": "stdout",
     "output_type": "stream",
     "text": [
      "validation loss=1.1562\n"
     ]
    },
    {
     "name": "stderr",
     "output_type": "stream",
     "text": [
      "epoch 20: 100%|███████████████████| 57/57 [00:00<00:00, 404.51it/s, loss=0.9384]\n"
     ]
    },
    {
     "name": "stdout",
     "output_type": "stream",
     "text": [
      "validation loss=1.1665\n"
     ]
    },
    {
     "name": "stderr",
     "output_type": "stream",
     "text": [
      "epoch 21: 100%|███████████████████| 57/57 [00:00<00:00, 367.12it/s, loss=0.9565]\n"
     ]
    },
    {
     "name": "stdout",
     "output_type": "stream",
     "text": [
      "validation loss=1.1523\n"
     ]
    },
    {
     "name": "stderr",
     "output_type": "stream",
     "text": [
      "epoch 22: 100%|███████████████████| 57/57 [00:00<00:00, 412.86it/s, loss=0.9597]\n"
     ]
    },
    {
     "name": "stdout",
     "output_type": "stream",
     "text": [
      "validation loss=1.1549\n"
     ]
    },
    {
     "name": "stderr",
     "output_type": "stream",
     "text": [
      "epoch 23: 100%|███████████████████| 57/57 [00:00<00:00, 407.73it/s, loss=0.9240]\n"
     ]
    },
    {
     "name": "stdout",
     "output_type": "stream",
     "text": [
      "validation loss=1.1343\n"
     ]
    },
    {
     "name": "stderr",
     "output_type": "stream",
     "text": [
      "epoch 24: 100%|███████████████████| 57/57 [00:00<00:00, 386.59it/s, loss=0.9221]\n"
     ]
    },
    {
     "name": "stdout",
     "output_type": "stream",
     "text": [
      "validation loss=1.1408\n"
     ]
    },
    {
     "name": "stderr",
     "output_type": "stream",
     "text": [
      "epoch 25: 100%|███████████████████| 57/57 [00:00<00:00, 407.70it/s, loss=0.8989]\n"
     ]
    },
    {
     "name": "stdout",
     "output_type": "stream",
     "text": [
      "validation loss=1.1457\n"
     ]
    },
    {
     "name": "stderr",
     "output_type": "stream",
     "text": [
      "epoch 26: 100%|███████████████████| 57/57 [00:00<00:00, 395.88it/s, loss=0.8834]\n"
     ]
    },
    {
     "name": "stdout",
     "output_type": "stream",
     "text": [
      "validation loss=1.1429\n"
     ]
    },
    {
     "name": "stderr",
     "output_type": "stream",
     "text": [
      "epoch 27: 100%|███████████████████| 57/57 [00:00<00:00, 409.30it/s, loss=0.9123]\n"
     ]
    },
    {
     "name": "stdout",
     "output_type": "stream",
     "text": [
      "validation loss=1.1475\n"
     ]
    },
    {
     "name": "stderr",
     "output_type": "stream",
     "text": [
      "epoch 28: 100%|███████████████████| 57/57 [00:00<00:00, 364.23it/s, loss=0.9029]\n"
     ]
    },
    {
     "name": "stdout",
     "output_type": "stream",
     "text": [
      "validation loss=1.1408\n"
     ]
    },
    {
     "name": "stderr",
     "output_type": "stream",
     "text": [
      "epoch 29: 100%|███████████████████| 57/57 [00:00<00:00, 343.54it/s, loss=0.8896]\n"
     ]
    },
    {
     "name": "stdout",
     "output_type": "stream",
     "text": [
      "validation loss=1.1389\n"
     ]
    },
    {
     "name": "stderr",
     "output_type": "stream",
     "text": [
      "epoch 30: 100%|███████████████████| 57/57 [00:00<00:00, 346.33it/s, loss=0.8516]\n"
     ]
    },
    {
     "name": "stdout",
     "output_type": "stream",
     "text": [
      "validation loss=1.1362\n"
     ]
    },
    {
     "name": "stderr",
     "output_type": "stream",
     "text": [
      "epoch 31: 100%|███████████████████| 57/57 [00:00<00:00, 344.73it/s, loss=0.8665]\n"
     ]
    },
    {
     "name": "stdout",
     "output_type": "stream",
     "text": [
      "validation loss=1.1520\n"
     ]
    },
    {
     "name": "stderr",
     "output_type": "stream",
     "text": [
      "epoch 32: 100%|███████████████████| 57/57 [00:00<00:00, 371.50it/s, loss=0.8389]\n"
     ]
    },
    {
     "name": "stdout",
     "output_type": "stream",
     "text": [
      "validation loss=1.1430\n"
     ]
    },
    {
     "name": "stderr",
     "output_type": "stream",
     "text": [
      "epoch 33: 100%|███████████████████| 57/57 [00:00<00:00, 335.60it/s, loss=0.8683]\n"
     ]
    },
    {
     "name": "stdout",
     "output_type": "stream",
     "text": [
      "validation loss=1.1125\n"
     ]
    },
    {
     "name": "stderr",
     "output_type": "stream",
     "text": [
      "epoch 34: 100%|███████████████████| 57/57 [00:00<00:00, 337.62it/s, loss=0.8339]\n"
     ]
    },
    {
     "name": "stdout",
     "output_type": "stream",
     "text": [
      "validation loss=1.1254\n"
     ]
    },
    {
     "name": "stderr",
     "output_type": "stream",
     "text": [
      "epoch 35: 100%|███████████████████| 57/57 [00:00<00:00, 347.57it/s, loss=0.8217]\n"
     ]
    },
    {
     "name": "stdout",
     "output_type": "stream",
     "text": [
      "validation loss=1.1070\n"
     ]
    },
    {
     "name": "stderr",
     "output_type": "stream",
     "text": [
      "epoch 36: 100%|███████████████████| 57/57 [00:00<00:00, 376.35it/s, loss=0.8264]\n"
     ]
    },
    {
     "name": "stdout",
     "output_type": "stream",
     "text": [
      "validation loss=1.1013\n"
     ]
    },
    {
     "name": "stderr",
     "output_type": "stream",
     "text": [
      "epoch 37: 100%|███████████████████| 57/57 [00:00<00:00, 352.04it/s, loss=0.8092]\n"
     ]
    },
    {
     "name": "stdout",
     "output_type": "stream",
     "text": [
      "validation loss=1.1022\n"
     ]
    },
    {
     "name": "stderr",
     "output_type": "stream",
     "text": [
      "epoch 38: 100%|███████████████████| 57/57 [00:00<00:00, 353.67it/s, loss=0.7738]\n"
     ]
    },
    {
     "name": "stdout",
     "output_type": "stream",
     "text": [
      "validation loss=1.0994\n"
     ]
    },
    {
     "name": "stderr",
     "output_type": "stream",
     "text": [
      "epoch 39: 100%|███████████████████| 57/57 [00:00<00:00, 367.49it/s, loss=0.8132]\n"
     ]
    },
    {
     "name": "stdout",
     "output_type": "stream",
     "text": [
      "validation loss=1.1391\n"
     ]
    },
    {
     "name": "stderr",
     "output_type": "stream",
     "text": [
      "epoch 40: 100%|███████████████████| 57/57 [00:00<00:00, 322.33it/s, loss=0.8079]\n"
     ]
    },
    {
     "name": "stdout",
     "output_type": "stream",
     "text": [
      "validation loss=1.1434\n"
     ]
    },
    {
     "name": "stderr",
     "output_type": "stream",
     "text": [
      "epoch 41: 100%|███████████████████| 57/57 [00:00<00:00, 392.98it/s, loss=0.8061]\n"
     ]
    },
    {
     "name": "stdout",
     "output_type": "stream",
     "text": [
      "validation loss=1.0920\n"
     ]
    },
    {
     "name": "stderr",
     "output_type": "stream",
     "text": [
      "epoch 42: 100%|███████████████████| 57/57 [00:00<00:00, 374.96it/s, loss=0.7917]\n"
     ]
    },
    {
     "name": "stdout",
     "output_type": "stream",
     "text": [
      "validation loss=1.0910\n"
     ]
    },
    {
     "name": "stderr",
     "output_type": "stream",
     "text": [
      "epoch 43: 100%|███████████████████| 57/57 [00:00<00:00, 396.60it/s, loss=0.7728]\n"
     ]
    },
    {
     "name": "stdout",
     "output_type": "stream",
     "text": [
      "validation loss=1.0849\n"
     ]
    },
    {
     "name": "stderr",
     "output_type": "stream",
     "text": [
      "epoch 44: 100%|███████████████████| 57/57 [00:00<00:00, 315.69it/s, loss=0.7702]\n"
     ]
    },
    {
     "name": "stdout",
     "output_type": "stream",
     "text": [
      "validation loss=1.0882\n"
     ]
    },
    {
     "name": "stderr",
     "output_type": "stream",
     "text": [
      "epoch 45: 100%|███████████████████| 57/57 [00:00<00:00, 261.53it/s, loss=0.7488]\n"
     ]
    },
    {
     "name": "stdout",
     "output_type": "stream",
     "text": [
      "validation loss=1.1053\n"
     ]
    },
    {
     "name": "stderr",
     "output_type": "stream",
     "text": [
      "epoch 46: 100%|███████████████████| 57/57 [00:00<00:00, 330.49it/s, loss=0.7459]\n"
     ]
    },
    {
     "name": "stdout",
     "output_type": "stream",
     "text": [
      "validation loss=1.0868\n"
     ]
    },
    {
     "name": "stderr",
     "output_type": "stream",
     "text": [
      "epoch 47: 100%|███████████████████| 57/57 [00:00<00:00, 402.23it/s, loss=0.7631]\n"
     ]
    },
    {
     "name": "stdout",
     "output_type": "stream",
     "text": [
      "validation loss=1.0725\n"
     ]
    },
    {
     "name": "stderr",
     "output_type": "stream",
     "text": [
      "epoch 48: 100%|███████████████████| 57/57 [00:00<00:00, 356.01it/s, loss=0.7640]\n"
     ]
    },
    {
     "name": "stdout",
     "output_type": "stream",
     "text": [
      "validation loss=1.0930\n"
     ]
    },
    {
     "name": "stderr",
     "output_type": "stream",
     "text": [
      "epoch 49: 100%|███████████████████| 57/57 [00:00<00:00, 349.43it/s, loss=0.7420]\n"
     ]
    },
    {
     "name": "stdout",
     "output_type": "stream",
     "text": [
      "validation loss=1.0941\n"
     ]
    },
    {
     "name": "stderr",
     "output_type": "stream",
     "text": [
      "epoch 50: 100%|███████████████████| 57/57 [00:00<00:00, 343.03it/s, loss=0.7266]\n"
     ]
    },
    {
     "name": "stdout",
     "output_type": "stream",
     "text": [
      "validation loss=1.0678\n"
     ]
    }
   ],
   "source": [
    "device = torch.device('cuda')\n",
    "# device = torch.device('cpu')\n",
    "checkdir = 'checkdir'\n",
    "\n",
    "# create model\n",
    "model = FFNN(\n",
    "    input_size=X_train.shape[1],\n",
    "    output_size=len(np.unique(y_train)),\n",
    "    h_size=100,\n",
    "    n_blocks=1,\n",
    "    dropout_p=0.1)\n",
    "\n",
    "# move model to device\n",
    "model = model.to(device)\n",
    "\n",
    "# create optimizer.\n",
    "optimizer = optim.Adam(model.parameters())\n",
    "# select loss function\n",
    "criterion = nn.CrossEntropyLoss()\n",
    "\n",
    "# train the model\n",
    "history = train(model, train_loader, val_loader, n_epochs=50, \n",
    "      criterion=criterion, device=device, checkdir=checkdir)"
   ]
  },
  {
   "cell_type": "code",
   "execution_count": 21,
   "id": "89de9e10",
   "metadata": {},
   "outputs": [
    {
     "data": {
      "image/png": "[encoded data removed]",
      "text/plain": [
       "<Figure size 432x288 with 1 Axes>"
      ]
     },
     "metadata": {
      "needs_background": "light"
     },
     "output_type": "display_data"
    }
   ],
   "source": [
    "# plot validation curve\n",
    "history[['train_loss', 'val_loss']].plot();"
   ]
  },
  {
   "cell_type": "markdown",
   "id": "b1f1bf58",
   "metadata": {},
   "source": [
    "## Task 2 (2 points)\n",
    "Make the model severely overfit"
   ]
  },
  {
   "cell_type": "code",
   "execution_count": 23,
   "id": "dc8c740b",
   "metadata": {},
   "outputs": [],
   "source": [
    "# TODO: create loaders\n",
    "# TODO: create model\n",
    "# TODO: train model\n",
    "\n",
    "\n",
    "if history['val_loss'].iloc[-1] - history['train_loss'].iloc[-1] > 1.0:\n",
    "    print('success!')"
   ]
  },
  {
   "cell_type": "markdown",
   "id": "51787c85",
   "metadata": {},
   "source": [
    "## Task 3 (2 points)\n",
    "Beat the baseline  \n",
    "You can change model architecture and hyperparams as you like  "
   ]
  },
  {
   "cell_type": "code",
   "execution_count": 24,
   "id": "d82b85bb",
   "metadata": {},
   "outputs": [],
   "source": [
    "# TOOD: select hyperparams and model architecture\n",
    "# TODO: create loaders\n",
    "# TODO: create model\n",
    "# TODO: train model"
   ]
  },
  {
   "cell_type": "code",
   "execution_count": null,
   "id": "96180123",
   "metadata": {},
   "outputs": [],
   "source": [
    "# load weights from best epoch\n",
    "\n",
    "idx = np.argmin(history['val_loss'])\n",
    "state_dict = torch.load(checkdir + '/epoch_%d_val_loss_%f' % (history.epoch.iloc[idx], history.val_loss.iloc[idx]))\n",
    "model.load_state_dict(state_dict)\n",
    "\n",
    "# test accuracy\n",
    "\n",
    "model.eval()\n",
    "test_acc = []\n",
    "\n",
    "with torch.no_grad():\n",
    "    for X, y in test_loader:\n",
    "        X = X.to(device)\n",
    "        y = y.to(device)\n",
    "\n",
    "        prediction = model(X)\n",
    "        prediction = prediction.argmax(dim=-1)\n",
    "        acc = (prediction ==  y.squeeze())\n",
    "        acc = acc.data.cpu().detach().numpy()\n",
    "        test_acc.extend( acc )\n",
    "\n",
    "test_acc = np.mean(test_acc)\n",
    "print('test accuracy', test_acc)\n",
    "if test_acc > 0.75:\n",
    "    print('success!')"
   ]
  },
  {
   "cell_type": "markdown",
   "id": "d31cfb42",
   "metadata": {},
   "source": [
    "## Task 4 (2 points)\n",
    "\n",
    "If we have a fixed memory budget (number of weights is fixed), what is more efficient:  \n",
    "wide network (`h_size >> 1`) or deep network (`n_blocks >> 1`) ?  \n",
    "Make an experiment to prove your position.  \n",
    "To avoid extreme cases, let put restrictions: \n",
    "* `n_blocks >=1` for wide network\n",
    "* `h_size >= 64` for deep network"
   ]
  },
  {
   "cell_type": "markdown",
   "id": "0223267b",
   "metadata": {},
   "source": [
    "# Task 5 (2 points)\n",
    "How are connected $L_2$ regularization and weight decay in the SGD optimizer?  \n",
    "Does the same holds for Adam optimizer? Why?  "
   ]
  }
 ],
 "metadata": {
  "kernelspec": {
   "display_name": "Python 3 (ipykernel)",
   "language": "python",
   "name": "python3"
  },
  "language_info": {
   "codemirror_mode": {
    "name": "ipython",
    "version": 3
   },
   "file_extension": ".py",
   "mimetype": "text/x-python",
   "name": "python",
   "nbconvert_exporter": "python",
   "pygments_lexer": "ipython3",
   "version": "3.7.11"
  }
 },
 "nbformat": 4,
 "nbformat_minor": 5
}
