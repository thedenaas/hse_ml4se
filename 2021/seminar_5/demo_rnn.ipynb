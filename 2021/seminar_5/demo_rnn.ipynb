{
 "cells": [
  {
   "cell_type": "code",
   "execution_count": 1,
   "metadata": {},
   "outputs": [],
   "source": [
    "import pandas as pd\n",
    "import numpy as np\n",
    "import nltk\n",
    "import gensim\n",
    "import spacy\n",
    "from tqdm import tqdm\n",
    "tqdm.pandas()\n",
    "\n",
    "import torch\n",
    "import torch.nn as nn\n",
    "import torch.nn.functional as F\n",
    "import torch.optim as optim\n",
    "\n",
    "\n",
    "SEED = 42\n",
    "np.random.seed(SEED)"
   ]
  },
  {
   "cell_type": "code",
   "execution_count": 2,
   "metadata": {},
   "outputs": [
    {
     "data": {
      "text/html": [
       "<div>\n",
       "<style scoped>\n",
       "    .dataframe tbody tr th:only-of-type {\n",
       "        vertical-align: middle;\n",
       "    }\n",
       "\n",
       "    .dataframe tbody tr th {\n",
       "        vertical-align: top;\n",
       "    }\n",
       "\n",
       "    .dataframe thead th {\n",
       "        text-align: right;\n",
       "    }\n",
       "</style>\n",
       "<table border=\"1\" class=\"dataframe\">\n",
       "  <thead>\n",
       "    <tr style=\"text-align: right;\">\n",
       "      <th></th>\n",
       "      <th>text</th>\n",
       "      <th>airline_sentiment</th>\n",
       "    </tr>\n",
       "  </thead>\n",
       "  <tbody>\n",
       "    <tr>\n",
       "      <th>0</th>\n",
       "      <td>@VirginAmerica What @dhepburn said.</td>\n",
       "      <td>neutral</td>\n",
       "    </tr>\n",
       "    <tr>\n",
       "      <th>1</th>\n",
       "      <td>@VirginAmerica plus you've added commercials t...</td>\n",
       "      <td>positive</td>\n",
       "    </tr>\n",
       "    <tr>\n",
       "      <th>2</th>\n",
       "      <td>@VirginAmerica I didn't today... Must mean I n...</td>\n",
       "      <td>neutral</td>\n",
       "    </tr>\n",
       "    <tr>\n",
       "      <th>3</th>\n",
       "      <td>@VirginAmerica it's really aggressive to blast...</td>\n",
       "      <td>negative</td>\n",
       "    </tr>\n",
       "    <tr>\n",
       "      <th>4</th>\n",
       "      <td>@VirginAmerica and it's a really big bad thing...</td>\n",
       "      <td>negative</td>\n",
       "    </tr>\n",
       "  </tbody>\n",
       "</table>\n",
       "</div>"
      ],
      "text/plain": [
       "                                                text airline_sentiment\n",
       "0                @VirginAmerica What @dhepburn said.           neutral\n",
       "1  @VirginAmerica plus you've added commercials t...          positive\n",
       "2  @VirginAmerica I didn't today... Must mean I n...           neutral\n",
       "3  @VirginAmerica it's really aggressive to blast...          negative\n",
       "4  @VirginAmerica and it's a really big bad thing...          negative"
      ]
     },
     "execution_count": 2,
     "metadata": {},
     "output_type": "execute_result"
    }
   ],
   "source": [
    "df = pd.read_csv('Tweets.csv')[['text', 'airline_sentiment']]\n",
    "df.head()"
   ]
  },
  {
   "cell_type": "code",
   "execution_count": 3,
   "metadata": {},
   "outputs": [
    {
     "data": {
      "text/plain": [
       "negative    9178\n",
       "neutral     3099\n",
       "positive    2363\n",
       "Name: airline_sentiment, dtype: int64"
      ]
     },
     "execution_count": 3,
     "metadata": {},
     "output_type": "execute_result"
    }
   ],
   "source": [
    "df.airline_sentiment.value_counts()"
   ]
  },
  {
   "cell_type": "code",
   "execution_count": 4,
   "metadata": {},
   "outputs": [
    {
     "name": "stderr",
     "output_type": "stream",
     "text": [
      "100%|████████████████████████████████| 14640/14640 [00:00<00:00, 1488993.68it/s]\n",
      "100%|██████████████████████████████████| 14640/14640 [00:01<00:00, 11985.38it/s]\n"
     ]
    }
   ],
   "source": [
    "# tokenize text\n",
    "\n",
    "import spacy\n",
    "\n",
    "\n",
    "spacy_en = spacy.load('en')\n",
    "\n",
    "def tokenizer(text): # create a tokenizer function\n",
    "    return [tok.text for tok in spacy_en.tokenizer(text) if tok.text.isalpha()]            \n",
    "\n",
    "df['text'] = df['text'].progress_apply(str.lower)\n",
    "df['text'] = df['text'].progress_apply(tokenizer)"
   ]
  },
  {
   "cell_type": "code",
   "execution_count": 5,
   "metadata": {},
   "outputs": [],
   "source": [
    "# encode classes\n",
    "\n",
    "from sklearn.preprocessing import LabelEncoder\n",
    "\n",
    "le = LabelEncoder()\n",
    "df['airline_sentiment'] = le.fit_transform(df.airline_sentiment.values)"
   ]
  },
  {
   "cell_type": "code",
   "execution_count": 6,
   "metadata": {},
   "outputs": [
    {
     "data": {
      "text/html": [
       "<div>\n",
       "<style scoped>\n",
       "    .dataframe tbody tr th:only-of-type {\n",
       "        vertical-align: middle;\n",
       "    }\n",
       "\n",
       "    .dataframe tbody tr th {\n",
       "        vertical-align: top;\n",
       "    }\n",
       "\n",
       "    .dataframe thead th {\n",
       "        text-align: right;\n",
       "    }\n",
       "</style>\n",
       "<table border=\"1\" class=\"dataframe\">\n",
       "  <thead>\n",
       "    <tr style=\"text-align: right;\">\n",
       "      <th></th>\n",
       "      <th>text</th>\n",
       "      <th>airline_sentiment</th>\n",
       "    </tr>\n",
       "  </thead>\n",
       "  <tbody>\n",
       "    <tr>\n",
       "      <th>0</th>\n",
       "      <td>[what, said]</td>\n",
       "      <td>1</td>\n",
       "    </tr>\n",
       "    <tr>\n",
       "      <th>1</th>\n",
       "      <td>[plus, you, added, commercials, to, the, exper...</td>\n",
       "      <td>2</td>\n",
       "    </tr>\n",
       "    <tr>\n",
       "      <th>2</th>\n",
       "      <td>[i, did, today, must, mean, i, need, to, take,...</td>\n",
       "      <td>1</td>\n",
       "    </tr>\n",
       "    <tr>\n",
       "      <th>3</th>\n",
       "      <td>[it, really, aggressive, to, blast, obnoxious,...</td>\n",
       "      <td>0</td>\n",
       "    </tr>\n",
       "    <tr>\n",
       "      <th>4</th>\n",
       "      <td>[and, it, a, really, big, bad, thing, about, it]</td>\n",
       "      <td>0</td>\n",
       "    </tr>\n",
       "  </tbody>\n",
       "</table>\n",
       "</div>"
      ],
      "text/plain": [
       "                                                text  airline_sentiment\n",
       "0                                       [what, said]                  1\n",
       "1  [plus, you, added, commercials, to, the, exper...                  2\n",
       "2  [i, did, today, must, mean, i, need, to, take,...                  1\n",
       "3  [it, really, aggressive, to, blast, obnoxious,...                  0\n",
       "4   [and, it, a, really, big, bad, thing, about, it]                  0"
      ]
     },
     "execution_count": 6,
     "metadata": {},
     "output_type": "execute_result"
    }
   ],
   "source": [
    "df.head()"
   ]
  },
  {
   "cell_type": "code",
   "execution_count": 7,
   "metadata": {},
   "outputs": [
    {
     "name": "stderr",
     "output_type": "stream",
     "text": [
      "100%|██████████████████████████████████| 14640/14640 [00:00<00:00, 60525.06it/s]\n"
     ]
    }
   ],
   "source": [
    "# text preprocessing\n",
    "import nltk\n",
    "\n",
    "\n",
    "stopwords = nltk.corpus.stopwords.words('english')\n",
    "\n",
    "df['text'] = df['text'].progress_apply(lambda x: [t for t in x if t not in stopwords])"
   ]
  },
  {
   "cell_type": "code",
   "execution_count": 8,
   "metadata": {},
   "outputs": [
    {
     "name": "stderr",
     "output_type": "stream",
     "text": [
      "100%|██████████████████████████████████| 14640/14640 [00:00<00:00, 15468.22it/s]\n"
     ]
    }
   ],
   "source": [
    "stemmer = nltk.SnowballStemmer('english')\n",
    "\n",
    "df['text'] = df['text'].progress_apply(lambda x: [stemmer.stem(t) for t in x])"
   ]
  },
  {
   "cell_type": "code",
   "execution_count": 9,
   "metadata": {},
   "outputs": [
    {
     "data": {
      "text/html": [
       "<div>\n",
       "<style scoped>\n",
       "    .dataframe tbody tr th:only-of-type {\n",
       "        vertical-align: middle;\n",
       "    }\n",
       "\n",
       "    .dataframe tbody tr th {\n",
       "        vertical-align: top;\n",
       "    }\n",
       "\n",
       "    .dataframe thead th {\n",
       "        text-align: right;\n",
       "    }\n",
       "</style>\n",
       "<table border=\"1\" class=\"dataframe\">\n",
       "  <thead>\n",
       "    <tr style=\"text-align: right;\">\n",
       "      <th></th>\n",
       "      <th>text</th>\n",
       "      <th>airline_sentiment</th>\n",
       "    </tr>\n",
       "  </thead>\n",
       "  <tbody>\n",
       "    <tr>\n",
       "      <th>0</th>\n",
       "      <td>[said]</td>\n",
       "      <td>1</td>\n",
       "    </tr>\n",
       "    <tr>\n",
       "      <th>1</th>\n",
       "      <td>[plus, ad, commerci, experi, tacki]</td>\n",
       "      <td>2</td>\n",
       "    </tr>\n",
       "    <tr>\n",
       "      <th>2</th>\n",
       "      <td>[today, must, mean, need, take, anoth, trip]</td>\n",
       "      <td>1</td>\n",
       "    </tr>\n",
       "    <tr>\n",
       "      <th>3</th>\n",
       "      <td>[realli, aggress, blast, obnoxi, entertain, gu...</td>\n",
       "      <td>0</td>\n",
       "    </tr>\n",
       "    <tr>\n",
       "      <th>4</th>\n",
       "      <td>[realli, big, bad, thing]</td>\n",
       "      <td>0</td>\n",
       "    </tr>\n",
       "  </tbody>\n",
       "</table>\n",
       "</div>"
      ],
      "text/plain": [
       "                                                text  airline_sentiment\n",
       "0                                             [said]                  1\n",
       "1                [plus, ad, commerci, experi, tacki]                  2\n",
       "2       [today, must, mean, need, take, anoth, trip]                  1\n",
       "3  [realli, aggress, blast, obnoxi, entertain, gu...                  0\n",
       "4                          [realli, big, bad, thing]                  0"
      ]
     },
     "execution_count": 9,
     "metadata": {},
     "output_type": "execute_result"
    }
   ],
   "source": [
    "df.head()"
   ]
  },
  {
   "cell_type": "code",
   "execution_count": 10,
   "metadata": {},
   "outputs": [
    {
     "data": {
      "text/plain": [
       "(13176, 1464)"
      ]
     },
     "execution_count": 10,
     "metadata": {},
     "output_type": "execute_result"
    }
   ],
   "source": [
    "from sklearn.model_selection import train_test_split\n",
    "\n",
    "df_train, df_test = train_test_split(df, test_size=0.1, stratify=df.airline_sentiment.values, random_state=SEED)\n",
    "len(df_train), len(df_test)"
   ]
  },
  {
   "cell_type": "code",
   "execution_count": 11,
   "metadata": {},
   "outputs": [
    {
     "name": "stderr",
     "output_type": "stream",
     "text": [
      "100%|█████████████████████████████████| 13176/13176 [00:00<00:00, 426368.27it/s]\n",
      "100%|███████████████████████████████████| 1464/1464 [00:00<00:00, 397492.30it/s]"
     ]
    },
    {
     "name": "stdout",
     "output_type": "stream",
     "text": [
      "2114\n"
     ]
    },
    {
     "name": "stderr",
     "output_type": "stream",
     "text": [
      "\n"
     ]
    }
   ],
   "source": [
    "from collections import Counter\n",
    "\n",
    "class Vocab:\n",
    "    def __init__(self, texts, min_freq=5):\n",
    "        self.tokens = {'<pad>': 0, '<bos>':1, '<eos>': 2, '<unk>': 3}\n",
    "        \n",
    "        tokens = Counter()\n",
    "        for text in texts:\n",
    "            tokens.update(text)\n",
    "            \n",
    "        i = len(self.tokens)\n",
    "        for t, freq in tokens.items():\n",
    "            if freq >= min_freq:\n",
    "                self.tokens[t] = i\n",
    "                i += 1\n",
    "            \n",
    "    def encode(self, text):\n",
    "        return [1] + [self.tokens.get(t, 3) for t in text] + [2]\n",
    "    \n",
    "    \n",
    "vocab = Vocab(df_train.text)\n",
    "\n",
    "df_train['text'] = df_train['text'].progress_apply(vocab.encode)\n",
    "df_test['text'] = df_test['text'].progress_apply(vocab.encode)\n",
    "\n",
    "print(len(vocab.tokens))"
   ]
  },
  {
   "cell_type": "code",
   "execution_count": 12,
   "metadata": {},
   "outputs": [
    {
     "data": {
      "text/html": [
       "<div>\n",
       "<style scoped>\n",
       "    .dataframe tbody tr th:only-of-type {\n",
       "        vertical-align: middle;\n",
       "    }\n",
       "\n",
       "    .dataframe tbody tr th {\n",
       "        vertical-align: top;\n",
       "    }\n",
       "\n",
       "    .dataframe thead th {\n",
       "        text-align: right;\n",
       "    }\n",
       "</style>\n",
       "<table border=\"1\" class=\"dataframe\">\n",
       "  <thead>\n",
       "    <tr style=\"text-align: right;\">\n",
       "      <th></th>\n",
       "      <th>text</th>\n",
       "      <th>airline_sentiment</th>\n",
       "    </tr>\n",
       "  </thead>\n",
       "  <tbody>\n",
       "    <tr>\n",
       "      <th>14317</th>\n",
       "      <td>[1, 4, 5, 6, 2]</td>\n",
       "      <td>0</td>\n",
       "    </tr>\n",
       "    <tr>\n",
       "      <th>6790</th>\n",
       "      <td>[1, 7, 8, 9, 10, 11, 12, 2]</td>\n",
       "      <td>1</td>\n",
       "    </tr>\n",
       "    <tr>\n",
       "      <th>2840</th>\n",
       "      <td>[1, 13, 14, 15, 2]</td>\n",
       "      <td>2</td>\n",
       "    </tr>\n",
       "    <tr>\n",
       "      <th>378</th>\n",
       "      <td>[1, 16, 17, 18, 19, 20, 7, 21, 22, 23, 24, 2]</td>\n",
       "      <td>2</td>\n",
       "    </tr>\n",
       "    <tr>\n",
       "      <th>3047</th>\n",
       "      <td>[1, 25, 26, 2]</td>\n",
       "      <td>0</td>\n",
       "    </tr>\n",
       "  </tbody>\n",
       "</table>\n",
       "</div>"
      ],
      "text/plain": [
       "                                                text  airline_sentiment\n",
       "14317                                [1, 4, 5, 6, 2]                  0\n",
       "6790                     [1, 7, 8, 9, 10, 11, 12, 2]                  1\n",
       "2840                              [1, 13, 14, 15, 2]                  2\n",
       "378    [1, 16, 17, 18, 19, 20, 7, 21, 22, 23, 24, 2]                  2\n",
       "3047                                  [1, 25, 26, 2]                  0"
      ]
     },
     "execution_count": 12,
     "metadata": {},
     "output_type": "execute_result"
    }
   ],
   "source": [
    "df_train.head()"
   ]
  },
  {
   "cell_type": "code",
   "execution_count": 13,
   "metadata": {},
   "outputs": [
    {
     "name": "stderr",
     "output_type": "stream",
     "text": [
      "/home/denaas/anaconda3/lib/python3.7/site-packages/seaborn/distributions.py:2619: FutureWarning: `distplot` is a deprecated function and will be removed in a future version. Please adapt your code to use either `displot` (a figure-level function with similar flexibility) or `histplot` (an axes-level function for histograms).\n",
      "  warnings.warn(msg, FutureWarning)\n"
     ]
    },
    {
     "data": {
      "text/plain": [
       "<AxesSubplot:xlabel='text', ylabel='Density'>"
      ]
     },
     "execution_count": 13,
     "metadata": {},
     "output_type": "execute_result"
    },
    {
     "data": {
      "image/png": "[encoded data removed]",
      "text/plain": [
       "<Figure size 432x288 with 1 Axes>"
      ]
     },
     "metadata": {
      "needs_background": "light"
     },
     "output_type": "display_data"
    }
   ],
   "source": [
    "import seaborn as sns\n",
    "\n",
    "\n",
    "sns.distplot(df_train.text.apply(len))"
   ]
  },
  {
   "cell_type": "code",
   "execution_count": 14,
   "metadata": {},
   "outputs": [
    {
     "name": "stderr",
     "output_type": "stream",
     "text": [
      "100%|█████████████████████████████████| 13176/13176 [00:00<00:00, 472917.13it/s]\n",
      "100%|███████████████████████████████████| 1464/1464 [00:00<00:00, 340003.38it/s]\n"
     ]
    }
   ],
   "source": [
    "max_len = 20\n",
    "\n",
    "df_train['text'] = df_train['text'].progress_apply(lambda x: x[:max_len] + [0]*max(max_len-len(x), 0))\n",
    "df_test['text'] = df_test['text'].progress_apply(lambda x: x[:max_len] + [0]*max(max_len-len(x), 0))"
   ]
  },
  {
   "cell_type": "code",
   "execution_count": 15,
   "metadata": {},
   "outputs": [
    {
     "data": {
      "text/html": [
       "<div>\n",
       "<style scoped>\n",
       "    .dataframe tbody tr th:only-of-type {\n",
       "        vertical-align: middle;\n",
       "    }\n",
       "\n",
       "    .dataframe tbody tr th {\n",
       "        vertical-align: top;\n",
       "    }\n",
       "\n",
       "    .dataframe thead th {\n",
       "        text-align: right;\n",
       "    }\n",
       "</style>\n",
       "<table border=\"1\" class=\"dataframe\">\n",
       "  <thead>\n",
       "    <tr style=\"text-align: right;\">\n",
       "      <th></th>\n",
       "      <th>text</th>\n",
       "      <th>airline_sentiment</th>\n",
       "    </tr>\n",
       "  </thead>\n",
       "  <tbody>\n",
       "    <tr>\n",
       "      <th>14317</th>\n",
       "      <td>[1, 4, 5, 6, 2, 0, 0, 0, 0, 0, 0, 0, 0, 0, 0, ...</td>\n",
       "      <td>0</td>\n",
       "    </tr>\n",
       "    <tr>\n",
       "      <th>6790</th>\n",
       "      <td>[1, 7, 8, 9, 10, 11, 12, 2, 0, 0, 0, 0, 0, 0, ...</td>\n",
       "      <td>1</td>\n",
       "    </tr>\n",
       "    <tr>\n",
       "      <th>2840</th>\n",
       "      <td>[1, 13, 14, 15, 2, 0, 0, 0, 0, 0, 0, 0, 0, 0, ...</td>\n",
       "      <td>2</td>\n",
       "    </tr>\n",
       "    <tr>\n",
       "      <th>378</th>\n",
       "      <td>[1, 16, 17, 18, 19, 20, 7, 21, 22, 23, 24, 2, ...</td>\n",
       "      <td>2</td>\n",
       "    </tr>\n",
       "    <tr>\n",
       "      <th>3047</th>\n",
       "      <td>[1, 25, 26, 2, 0, 0, 0, 0, 0, 0, 0, 0, 0, 0, 0...</td>\n",
       "      <td>0</td>\n",
       "    </tr>\n",
       "  </tbody>\n",
       "</table>\n",
       "</div>"
      ],
      "text/plain": [
       "                                                    text  airline_sentiment\n",
       "14317  [1, 4, 5, 6, 2, 0, 0, 0, 0, 0, 0, 0, 0, 0, 0, ...                  0\n",
       "6790   [1, 7, 8, 9, 10, 11, 12, 2, 0, 0, 0, 0, 0, 0, ...                  1\n",
       "2840   [1, 13, 14, 15, 2, 0, 0, 0, 0, 0, 0, 0, 0, 0, ...                  2\n",
       "378    [1, 16, 17, 18, 19, 20, 7, 21, 22, 23, 24, 2, ...                  2\n",
       "3047   [1, 25, 26, 2, 0, 0, 0, 0, 0, 0, 0, 0, 0, 0, 0...                  0"
      ]
     },
     "execution_count": 15,
     "metadata": {},
     "output_type": "execute_result"
    }
   ],
   "source": [
    "df_train.head()"
   ]
  },
  {
   "cell_type": "code",
   "execution_count": 16,
   "metadata": {},
   "outputs": [],
   "source": [
    "from torch.utils.data import TensorDataset, DataLoader\n",
    "\n",
    "ds_train = TensorDataset(\n",
    "    torch.tensor(np.vstack(df_train.text.values)).long(),\n",
    "    torch.tensor(df_train.airline_sentiment.values).long()\n",
    ")\n",
    "\n",
    "ds_test = TensorDataset(\n",
    "    torch.tensor(np.vstack(df_test.text.values)).long(),\n",
    "    torch.tensor(df_test.airline_sentiment.values).long()\n",
    ")"
   ]
  },
  {
   "cell_type": "code",
   "execution_count": 17,
   "metadata": {},
   "outputs": [],
   "source": [
    "loaders = {\n",
    "    \"train\": DataLoader(ds_train, batch_size=64, shuffle=True),\n",
    "    \"valid\": DataLoader(ds_test, batch_size=64, shuffle=False),\n",
    "}"
   ]
  },
  {
   "cell_type": "code",
   "execution_count": 18,
   "metadata": {},
   "outputs": [],
   "source": [
    "class TextClassifier(nn.Module):\n",
    "    \n",
    "    def __init__(self, vocab_size, embed_size, hidden_size):\n",
    "        super(TextClassifier, self).__init__()\n",
    "        self.embedding = nn.Embedding(vocab_size, embed_size)\n",
    "        \n",
    "        self.rnn = nn.LSTM(input_size=embed_size,\n",
    "                           hidden_size=hidden_size,\n",
    "                           bidirectional=True,\n",
    "                           batch_first=True,\n",
    "                          )\n",
    "        \n",
    "        self.fc = nn.Linear(hidden_size * 2 *2, 3)\n",
    "        \n",
    "    def forward(self, x):                \n",
    "        x = self.embedding(x)\n",
    "        _, (hidden, cell) = self.rnn(x)\n",
    "        \n",
    "        hidden = hidden.transpose(0,1)\n",
    "        cell = cell.transpose(0,1)\n",
    "        hidden = hidden.contiguous().view(hidden.size(0),-1)\n",
    "        cell = cell.contiguous().view(cell.size(0),-1)\n",
    "        x = torch.cat([hidden, cell], dim=1).squeeze(1)\n",
    "        x = self.fc(x)\n",
    "        \n",
    "        return x"
   ]
  },
  {
   "cell_type": "code",
   "execution_count": 19,
   "metadata": {},
   "outputs": [],
   "source": [
    "model = TextClassifier(len(vocab.tokens),\n",
    "                embed_size=100,\n",
    "                hidden_size=128,\n",
    "               )\n",
    "\n",
    "optimizer = optim.Adam(model.parameters())\n",
    "criterion = nn.CrossEntropyLoss()"
   ]
  },
  {
   "cell_type": "code",
   "execution_count": 20,
   "metadata": {},
   "outputs": [
    {
     "data": {
      "application/vnd.jupyter.widget-view+json": {
       "model_id": "133d2ed9e875416387c3862b95bfa6ae",
       "version_major": 2,
       "version_minor": 0
      },
      "text/plain": [
       "1/10 * Epoch (train):   0%|          | 0/206 [00:00<?, ?it/s]"
      ]
     },
     "metadata": {},
     "output_type": "display_data"
    },
    {
     "name": "stdout",
     "output_type": "stream",
     "text": [
      "train (1/10) accuracy01: 0.700971463302735 | accuracy01/std: 0.07690579142476624 | loss: 0.7213651390964504 | loss/mean: 0.7213651390964504 | loss/std: 0.12671387709308568 | lr: 0.001 | momentum: 0.9\n"
     ]
    },
    {
     "data": {
      "application/vnd.jupyter.widget-view+json": {
       "model_id": "f237eab4bb3e44d191d9a0aaf7653dcb",
       "version_major": 2,
       "version_minor": 0
      },
      "text/plain": [
       "1/10 * Epoch (valid):   0%|          | 0/23 [00:00<?, ?it/s]"
      ]
     },
     "metadata": {},
     "output_type": "display_data"
    },
    {
     "name": "stdout",
     "output_type": "stream",
     "text": [
      "valid (1/10) accuracy01: 0.7568306027214383 | accuracy01/std: 0.0421311357908442 | loss: 0.6216421795021642 | loss/mean: 0.6216421795021642 | loss/std: 0.08659494874115134 | lr: 0.001 | momentum: 0.9\n",
      "* Epoch (1/10) \n"
     ]
    },
    {
     "data": {
      "application/vnd.jupyter.widget-view+json": {
       "model_id": "b76f93aae518482e8da7202194e04067",
       "version_major": 2,
       "version_minor": 0
      },
      "text/plain": [
       "2/10 * Epoch (train):   0%|          | 0/206 [00:00<?, ?it/s]"
      ]
     },
     "metadata": {},
     "output_type": "display_data"
    },
    {
     "name": "stdout",
     "output_type": "stream",
     "text": [
      "train (2/10) accuracy01: 0.7637370978982506 | accuracy01/std: 0.055924555946567395 | loss: 0.5720297746862433 | loss/mean: 0.5720297746862433 | loss/std: 0.09543794848873433 | lr: 0.001 | momentum: 0.9\n"
     ]
    },
    {
     "data": {
      "application/vnd.jupyter.widget-view+json": {
       "model_id": "66775def0d27414a86e2a64c06793d13",
       "version_major": 2,
       "version_minor": 0
      },
      "text/plain": [
       "2/10 * Epoch (valid):   0%|          | 0/23 [00:00<?, ?it/s]"
      ]
     },
     "metadata": {},
     "output_type": "display_data"
    },
    {
     "name": "stdout",
     "output_type": "stream",
     "text": [
      "valid (2/10) accuracy01: 0.7588797833750157 | accuracy01/std: 0.05060245412497034 | loss: 0.5887194031574686 | loss/mean: 0.5887194031574686 | loss/std: 0.07328461805092008 | lr: 0.001 | momentum: 0.9\n",
      "* Epoch (2/10) \n"
     ]
    },
    {
     "data": {
      "application/vnd.jupyter.widget-view+json": {
       "model_id": "77ff0610c086438c8b59b71bc9683d89",
       "version_major": 2,
       "version_minor": 0
      },
      "text/plain": [
       "3/10 * Epoch (train):   0%|          | 0/206 [00:00<?, ?it/s]"
      ]
     },
     "metadata": {},
     "output_type": "display_data"
    },
    {
     "name": "stdout",
     "output_type": "stream",
     "text": [
      "train (3/10) accuracy01: 0.799635701492185 | accuracy01/std: 0.046261966154675364 | loss: 0.4889520723926855 | loss/mean: 0.4889520723926855 | loss/std: 0.08589388760305047 | lr: 0.001 | momentum: 0.9\n"
     ]
    },
    {
     "data": {
      "application/vnd.jupyter.widget-view+json": {
       "model_id": "f346f74a81b04f099f6444f3ee410e5d",
       "version_major": 2,
       "version_minor": 0
      },
      "text/plain": [
       "3/10 * Epoch (valid):   0%|          | 0/23 [00:00<?, ?it/s]"
      ]
     },
     "metadata": {},
     "output_type": "display_data"
    },
    {
     "name": "stdout",
     "output_type": "stream",
     "text": [
      "valid (3/10) accuracy01: 0.7814207666558646 | accuracy01/std: 0.043116965659860194 | loss: 0.5725545502099836 | loss/mean: 0.5725545502099836 | loss/std: 0.1129124792292839 | lr: 0.001 | momentum: 0.9\n",
      "* Epoch (3/10) \n"
     ]
    },
    {
     "data": {
      "application/vnd.jupyter.widget-view+json": {
       "model_id": "421f0d322c864991bc02b4afff0a617d",
       "version_major": 2,
       "version_minor": 0
      },
      "text/plain": [
       "4/10 * Epoch (train):   0%|          | 0/206 [00:00<?, ?it/s]"
      ]
     },
     "metadata": {},
     "output_type": "display_data"
    },
    {
     "name": "stdout",
     "output_type": "stream",
     "text": [
      "train (4/10) accuracy01: 0.8305251974732354 | accuracy01/std: 0.04980158376288536 | loss: 0.42397582540022805 | loss/mean: 0.42397582540022805 | loss/std: 0.09054789326692655 | lr: 0.001 | momentum: 0.9\n"
     ]
    },
    {
     "data": {
      "application/vnd.jupyter.widget-view+json": {
       "model_id": "5cf280bbf4254044967217defc8baff8",
       "version_major": 2,
       "version_minor": 0
      },
      "text/plain": [
       "4/10 * Epoch (valid):   0%|          | 0/23 [00:00<?, ?it/s]"
      ]
     },
     "metadata": {},
     "output_type": "display_data"
    },
    {
     "name": "stdout",
     "output_type": "stream",
     "text": [
      "valid (4/10) accuracy01: 0.7786885258929976 | accuracy01/std: 0.04646727913243289 | loss: 0.5918484190122678 | loss/mean: 0.5918484190122678 | loss/std: 0.11430900292019094 | lr: 0.001 | momentum: 0.9\n",
      "* Epoch (4/10) \n"
     ]
    },
    {
     "data": {
      "application/vnd.jupyter.widget-view+json": {
       "model_id": "7df35b9b01ca4b31ab00324d897d0076",
       "version_major": 2,
       "version_minor": 0
      },
      "text/plain": [
       "5/10 * Epoch (train):   0%|          | 0/206 [00:00<?, ?it/s]"
      ]
     },
     "metadata": {},
     "output_type": "display_data"
    },
    {
     "name": "stdout",
     "output_type": "stream",
     "text": [
      "train (5/10) accuracy01: 0.8588342441887151 | accuracy01/std: 0.04691520726880873 | loss: 0.35743640423834366 | loss/mean: 0.35743640423834366 | loss/std: 0.09066627989212715 | lr: 0.001 | momentum: 0.9\n"
     ]
    },
    {
     "data": {
      "application/vnd.jupyter.widget-view+json": {
       "model_id": "18df619d4f714d76b22adcb8f828723e",
       "version_major": 2,
       "version_minor": 0
      },
      "text/plain": [
       "5/10 * Epoch (valid):   0%|          | 0/23 [00:00<?, ?it/s]"
      ]
     },
     "metadata": {},
     "output_type": "display_data"
    },
    {
     "name": "stdout",
     "output_type": "stream",
     "text": [
      "valid (5/10) accuracy01: 0.7814207663301562 | accuracy01/std: 0.05871420277021245 | loss: 0.6533834286074821 | loss/mean: 0.6533834286074821 | loss/std: 0.14975591398229476 | lr: 0.001 | momentum: 0.9\n",
      "* Epoch (5/10) \n"
     ]
    },
    {
     "data": {
      "application/vnd.jupyter.widget-view+json": {
       "model_id": "9cb65ddc589744299c1d981217ae8654",
       "version_major": 2,
       "version_minor": 0
      },
      "text/plain": [
       "6/10 * Epoch (train):   0%|          | 0/206 [00:00<?, ?it/s]"
      ]
     },
     "metadata": {},
     "output_type": "display_data"
    },
    {
     "name": "stdout",
     "output_type": "stream",
     "text": [
      "train (6/10) accuracy01: 0.8828931392940088 | accuracy01/std: 0.04250604465292215 | loss: 0.293295064403856 | loss/mean: 0.293295064403856 | loss/std: 0.08259737893872181 | lr: 0.001 | momentum: 0.9\n"
     ]
    },
    {
     "data": {
      "application/vnd.jupyter.widget-view+json": {
       "model_id": "ebbde80144dd4a949cd85cd81862ca22",
       "version_major": 2,
       "version_minor": 0
      },
      "text/plain": [
       "6/10 * Epoch (valid):   0%|          | 0/23 [00:00<?, ?it/s]"
      ]
     },
     "metadata": {},
     "output_type": "display_data"
    },
    {
     "name": "stdout",
     "output_type": "stream",
     "text": [
      "valid (6/10) accuracy01: 0.7834699463323166 | accuracy01/std: 0.050872846676677005 | loss: 0.6556724640515331 | loss/mean: 0.6556724640515331 | loss/std: 0.1501881172203536 | lr: 0.001 | momentum: 0.9\n",
      "* Epoch (6/10) \n"
     ]
    },
    {
     "data": {
      "application/vnd.jupyter.widget-view+json": {
       "model_id": "ae92a9da8d7a4122b29dbfd35c184d59",
       "version_major": 2,
       "version_minor": 0
      },
      "text/plain": [
       "7/10 * Epoch (train):   0%|          | 0/206 [00:00<?, ?it/s]"
      ]
     },
     "metadata": {},
     "output_type": "display_data"
    },
    {
     "name": "stdout",
     "output_type": "stream",
     "text": [
      "train (7/10) accuracy01: 0.9122647239210827 | accuracy01/std: 0.03927359799700507 | loss: 0.2235805432345553 | loss/mean: 0.2235805432345553 | loss/std: 0.07597173087645016 | lr: 0.001 | momentum: 0.9\n"
     ]
    },
    {
     "data": {
      "application/vnd.jupyter.widget-view+json": {
       "model_id": "70a7d1426c4d4d6895d3a042dc27a34c",
       "version_major": 2,
       "version_minor": 0
      },
      "text/plain": [
       "7/10 * Epoch (valid):   0%|          | 0/23 [00:00<?, ?it/s]"
      ]
     },
     "metadata": {},
     "output_type": "display_data"
    },
    {
     "name": "stdout",
     "output_type": "stream",
     "text": [
      "valid (7/10) accuracy01: 0.7704918045815223 | accuracy01/std: 0.05228271974922734 | loss: 0.7883107160609927 | loss/mean: 0.7883107160609927 | loss/std: 0.1972755699221719 | lr: 0.001 | momentum: 0.9\n",
      "* Epoch (7/10) \n"
     ]
    },
    {
     "data": {
      "application/vnd.jupyter.widget-view+json": {
       "model_id": "30b90fe2232447f2831e8ad4ec402baa",
       "version_major": 2,
       "version_minor": 0
      },
      "text/plain": [
       "8/10 * Epoch (train):   0%|          | 0/206 [00:00<?, ?it/s]"
      ]
     },
     "metadata": {},
     "output_type": "display_data"
    },
    {
     "name": "stdout",
     "output_type": "stream",
     "text": [
      "train (8/10) accuracy01: 0.9339708561743834 | accuracy01/std: 0.03384844381938048 | loss: 0.16852623310661632 | loss/mean: 0.16852623310661632 | loss/std: 0.06527113181457649 | lr: 0.001 | momentum: 0.9\n"
     ]
    },
    {
     "data": {
      "application/vnd.jupyter.widget-view+json": {
       "model_id": "685f6d35f4d44ad6bdae70d8983e9ec0",
       "version_major": 2,
       "version_minor": 0
      },
      "text/plain": [
       "8/10 * Epoch (valid):   0%|          | 0/23 [00:00<?, ?it/s]"
      ]
     },
     "metadata": {},
     "output_type": "display_data"
    },
    {
     "name": "stdout",
     "output_type": "stream",
     "text": [
      "valid (8/10) accuracy01: 0.7609289627257593 | accuracy01/std: 0.05982345335493671 | loss: 0.9263812538053169 | loss/mean: 0.9263812538053169 | loss/std: 0.22569215148043353 | lr: 0.001 | momentum: 0.9\n",
      "* Epoch (8/10) \n"
     ]
    },
    {
     "data": {
      "application/vnd.jupyter.widget-view+json": {
       "model_id": "bfba1e02287a408a894d686eef125a9d",
       "version_major": 2,
       "version_minor": 0
      },
      "text/plain": [
       "9/10 * Epoch (train):   0%|          | 0/206 [00:00<?, ?it/s]"
      ]
     },
     "metadata": {},
     "output_type": "display_data"
    },
    {
     "name": "stdout",
     "output_type": "stream",
     "text": [
      "train (9/10) accuracy01: 0.9574984823781645 | accuracy01/std: 0.02417736847031927 | loss: 0.11765252009405104 | loss/mean: 0.11765252009405104 | loss/std: 0.0519407087791312 | lr: 0.001 | momentum: 0.9\n"
     ]
    },
    {
     "data": {
      "application/vnd.jupyter.widget-view+json": {
       "model_id": "41f9d82606dc42779b7bfe6c0814a9c6",
       "version_major": 2,
       "version_minor": 0
      },
      "text/plain": [
       "9/10 * Epoch (valid):   0%|          | 0/23 [00:00<?, ?it/s]"
      ]
     },
     "metadata": {},
     "output_type": "display_data"
    },
    {
     "name": "stdout",
     "output_type": "stream",
     "text": [
      "valid (9/10) accuracy01: 0.7527322417399922 | accuracy01/std: 0.05005404132100099 | loss: 1.1251758962381087 | loss/mean: 1.1251758962381087 | loss/std: 0.28262654574363494 | lr: 0.001 | momentum: 0.9\n",
      "* Epoch (9/10) \n"
     ]
    },
    {
     "data": {
      "application/vnd.jupyter.widget-view+json": {
       "model_id": "3442e1fa80bf497ab18c674afa22c3d3",
       "version_major": 2,
       "version_minor": 0
      },
      "text/plain": [
       "10/10 * Epoch (train):   0%|          | 0/206 [00:00<?, ?it/s]"
      ]
     },
     "metadata": {},
     "output_type": "display_data"
    },
    {
     "name": "stdout",
     "output_type": "stream",
     "text": [
      "train (10/10) accuracy01: 0.9690346084874397 | accuracy01/std: 0.020568226707134114 | loss: 0.08942815088726344 | loss/mean: 0.08942815088726344 | loss/std: 0.04474414385818379 | lr: 0.001 | momentum: 0.9\n"
     ]
    },
    {
     "data": {
      "application/vnd.jupyter.widget-view+json": {
       "model_id": "c6f6a5a364a447659d3c344de2fe1582",
       "version_major": 2,
       "version_minor": 0
      },
      "text/plain": [
       "10/10 * Epoch (valid):   0%|          | 0/23 [00:00<?, ?it/s]"
      ]
     },
     "metadata": {},
     "output_type": "display_data"
    },
    {
     "name": "stdout",
     "output_type": "stream",
     "text": [
      "valid (10/10) accuracy01: 0.7431693998842291 | accuracy01/std: 0.0538894497534324 | loss: 1.307768018845001 | loss/mean: 1.307768018845001 | loss/std: 0.3175960353673584 | lr: 0.001 | momentum: 0.9\n",
      "* Epoch (10/10) \n",
      "Top best models:\n",
      "logs/checkpoints/train.3.pth\t0.5726\n"
     ]
    }
   ],
   "source": [
    "from catalyst import dl\n",
    "\n",
    "\n",
    "runner = dl.SupervisedRunner()\n",
    "runner.train(\n",
    "    model=model,\n",
    "    criterion=criterion,\n",
    "    optimizer=optimizer,\n",
    "    loaders=loaders,\n",
    "    num_epochs=10,\n",
    "    callbacks=[\n",
    "        dl.AccuracyCallback(input_key=\"logits\", target_key=\"targets\", topk_args=(1,), num_classes=3),\n",
    "    ],\n",
    "    logdir=\"./logs\",\n",
    "    valid_loader=\"valid\",\n",
    "    valid_metric=\"loss\",\n",
    "    verbose=True,\n",
    "    load_best_on_end=True,\n",
    "#     check=True,\n",
    ")"
   ]
  },
  {
   "cell_type": "code",
   "execution_count": null,
   "metadata": {},
   "outputs": [],
   "source": []
  }
 ],
 "metadata": {
  "kernelspec": {
   "display_name": "Python 3 (ipykernel)",
   "language": "python",
   "name": "python3"
  },
  "language_info": {
   "codemirror_mode": {
    "name": "ipython",
    "version": 3
   },
   "file_extension": ".py",
   "mimetype": "text/x-python",
   "name": "python",
   "nbconvert_exporter": "python",
   "pygments_lexer": "ipython3",
   "version": "3.7.11"
  },
  "widgets": {
   "state": {},
   "version": "1.1.2"
  }
 },
 "nbformat": 4,
 "nbformat_minor": 2
}
