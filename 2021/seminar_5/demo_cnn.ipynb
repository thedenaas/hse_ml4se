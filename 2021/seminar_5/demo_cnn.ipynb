{
 "cells": [
  {
   "cell_type": "code",
   "execution_count": 1,
   "metadata": {},
   "outputs": [],
   "source": [
    "import pandas as pd\n",
    "import numpy as np\n",
    "import nltk\n",
    "import gensim\n",
    "import spacy\n",
    "from tqdm import tqdm\n",
    "tqdm.pandas()\n",
    "\n",
    "import torch\n",
    "import torch.nn as nn\n",
    "import torch.nn.functional as F\n",
    "import torch.optim as optim\n",
    "\n",
    "\n",
    "SEED = 42\n",
    "np.random.seed(SEED)"
   ]
  },
  {
   "cell_type": "code",
   "execution_count": 2,
   "metadata": {},
   "outputs": [
    {
     "data": {
      "text/html": [
       "<div>\n",
       "<style scoped>\n",
       "    .dataframe tbody tr th:only-of-type {\n",
       "        vertical-align: middle;\n",
       "    }\n",
       "\n",
       "    .dataframe tbody tr th {\n",
       "        vertical-align: top;\n",
       "    }\n",
       "\n",
       "    .dataframe thead th {\n",
       "        text-align: right;\n",
       "    }\n",
       "</style>\n",
       "<table border=\"1\" class=\"dataframe\">\n",
       "  <thead>\n",
       "    <tr style=\"text-align: right;\">\n",
       "      <th></th>\n",
       "      <th>text</th>\n",
       "      <th>airline_sentiment</th>\n",
       "    </tr>\n",
       "  </thead>\n",
       "  <tbody>\n",
       "    <tr>\n",
       "      <th>0</th>\n",
       "      <td>@VirginAmerica What @dhepburn said.</td>\n",
       "      <td>neutral</td>\n",
       "    </tr>\n",
       "    <tr>\n",
       "      <th>1</th>\n",
       "      <td>@VirginAmerica plus you've added commercials t...</td>\n",
       "      <td>positive</td>\n",
       "    </tr>\n",
       "    <tr>\n",
       "      <th>2</th>\n",
       "      <td>@VirginAmerica I didn't today... Must mean I n...</td>\n",
       "      <td>neutral</td>\n",
       "    </tr>\n",
       "    <tr>\n",
       "      <th>3</th>\n",
       "      <td>@VirginAmerica it's really aggressive to blast...</td>\n",
       "      <td>negative</td>\n",
       "    </tr>\n",
       "    <tr>\n",
       "      <th>4</th>\n",
       "      <td>@VirginAmerica and it's a really big bad thing...</td>\n",
       "      <td>negative</td>\n",
       "    </tr>\n",
       "  </tbody>\n",
       "</table>\n",
       "</div>"
      ],
      "text/plain": [
       "                                                text airline_sentiment\n",
       "0                @VirginAmerica What @dhepburn said.           neutral\n",
       "1  @VirginAmerica plus you've added commercials t...          positive\n",
       "2  @VirginAmerica I didn't today... Must mean I n...           neutral\n",
       "3  @VirginAmerica it's really aggressive to blast...          negative\n",
       "4  @VirginAmerica and it's a really big bad thing...          negative"
      ]
     },
     "execution_count": 2,
     "metadata": {},
     "output_type": "execute_result"
    }
   ],
   "source": [
    "df = pd.read_csv('Tweets.csv')[['text', 'airline_sentiment']]\n",
    "df.head()"
   ]
  },
  {
   "cell_type": "code",
   "execution_count": 3,
   "metadata": {},
   "outputs": [
    {
     "data": {
      "text/plain": [
       "negative    9178\n",
       "neutral     3099\n",
       "positive    2363\n",
       "Name: airline_sentiment, dtype: int64"
      ]
     },
     "execution_count": 3,
     "metadata": {},
     "output_type": "execute_result"
    }
   ],
   "source": [
    "df.airline_sentiment.value_counts()"
   ]
  },
  {
   "cell_type": "code",
   "execution_count": 4,
   "metadata": {},
   "outputs": [
    {
     "name": "stderr",
     "output_type": "stream",
     "text": [
      "100%|████████████████████████████████| 14640/14640 [00:00<00:00, 1241349.83it/s]\n",
      "100%|██████████████████████████████████| 14640/14640 [00:01<00:00, 11708.66it/s]\n"
     ]
    }
   ],
   "source": [
    "# tokenize text\n",
    "\n",
    "import spacy\n",
    "\n",
    "\n",
    "spacy_en = spacy.load('en')\n",
    "\n",
    "def tokenizer(text): # create a tokenizer function\n",
    "    return [tok.text for tok in spacy_en.tokenizer(text) if tok.text.isalpha()]            \n",
    "\n",
    "df['text'] = df['text'].progress_apply(str.lower)\n",
    "df['text'] = df['text'].progress_apply(tokenizer)"
   ]
  },
  {
   "cell_type": "code",
   "execution_count": 5,
   "metadata": {},
   "outputs": [],
   "source": [
    "# encode classes\n",
    "\n",
    "from sklearn.preprocessing import LabelEncoder\n",
    "\n",
    "le = LabelEncoder()\n",
    "df['airline_sentiment'] = le.fit_transform(df.airline_sentiment.values)"
   ]
  },
  {
   "cell_type": "code",
   "execution_count": 6,
   "metadata": {},
   "outputs": [
    {
     "data": {
      "text/html": [
       "<div>\n",
       "<style scoped>\n",
       "    .dataframe tbody tr th:only-of-type {\n",
       "        vertical-align: middle;\n",
       "    }\n",
       "\n",
       "    .dataframe tbody tr th {\n",
       "        vertical-align: top;\n",
       "    }\n",
       "\n",
       "    .dataframe thead th {\n",
       "        text-align: right;\n",
       "    }\n",
       "</style>\n",
       "<table border=\"1\" class=\"dataframe\">\n",
       "  <thead>\n",
       "    <tr style=\"text-align: right;\">\n",
       "      <th></th>\n",
       "      <th>text</th>\n",
       "      <th>airline_sentiment</th>\n",
       "    </tr>\n",
       "  </thead>\n",
       "  <tbody>\n",
       "    <tr>\n",
       "      <th>0</th>\n",
       "      <td>[what, said]</td>\n",
       "      <td>1</td>\n",
       "    </tr>\n",
       "    <tr>\n",
       "      <th>1</th>\n",
       "      <td>[plus, you, added, commercials, to, the, exper...</td>\n",
       "      <td>2</td>\n",
       "    </tr>\n",
       "    <tr>\n",
       "      <th>2</th>\n",
       "      <td>[i, did, today, must, mean, i, need, to, take,...</td>\n",
       "      <td>1</td>\n",
       "    </tr>\n",
       "    <tr>\n",
       "      <th>3</th>\n",
       "      <td>[it, really, aggressive, to, blast, obnoxious,...</td>\n",
       "      <td>0</td>\n",
       "    </tr>\n",
       "    <tr>\n",
       "      <th>4</th>\n",
       "      <td>[and, it, a, really, big, bad, thing, about, it]</td>\n",
       "      <td>0</td>\n",
       "    </tr>\n",
       "  </tbody>\n",
       "</table>\n",
       "</div>"
      ],
      "text/plain": [
       "                                                text  airline_sentiment\n",
       "0                                       [what, said]                  1\n",
       "1  [plus, you, added, commercials, to, the, exper...                  2\n",
       "2  [i, did, today, must, mean, i, need, to, take,...                  1\n",
       "3  [it, really, aggressive, to, blast, obnoxious,...                  0\n",
       "4   [and, it, a, really, big, bad, thing, about, it]                  0"
      ]
     },
     "execution_count": 6,
     "metadata": {},
     "output_type": "execute_result"
    }
   ],
   "source": [
    "df.head()"
   ]
  },
  {
   "cell_type": "code",
   "execution_count": 7,
   "metadata": {},
   "outputs": [
    {
     "name": "stderr",
     "output_type": "stream",
     "text": [
      "100%|██████████████████████████████████| 14640/14640 [00:00<00:00, 60251.99it/s]\n"
     ]
    }
   ],
   "source": [
    "# text preprocessing\n",
    "import nltk\n",
    "\n",
    "\n",
    "stopwords = nltk.corpus.stopwords.words('english')\n",
    "\n",
    "df['text'] = df['text'].progress_apply(lambda x: [t for t in x if t not in stopwords])"
   ]
  },
  {
   "cell_type": "code",
   "execution_count": 8,
   "metadata": {},
   "outputs": [
    {
     "name": "stderr",
     "output_type": "stream",
     "text": [
      "100%|██████████████████████████████████| 14640/14640 [00:00<00:00, 15484.81it/s]\n"
     ]
    }
   ],
   "source": [
    "stemmer = nltk.SnowballStemmer('english')\n",
    "\n",
    "df['text'] = df['text'].progress_apply(lambda x: [stemmer.stem(t) for t in x])"
   ]
  },
  {
   "cell_type": "code",
   "execution_count": 9,
   "metadata": {},
   "outputs": [
    {
     "data": {
      "text/html": [
       "<div>\n",
       "<style scoped>\n",
       "    .dataframe tbody tr th:only-of-type {\n",
       "        vertical-align: middle;\n",
       "    }\n",
       "\n",
       "    .dataframe tbody tr th {\n",
       "        vertical-align: top;\n",
       "    }\n",
       "\n",
       "    .dataframe thead th {\n",
       "        text-align: right;\n",
       "    }\n",
       "</style>\n",
       "<table border=\"1\" class=\"dataframe\">\n",
       "  <thead>\n",
       "    <tr style=\"text-align: right;\">\n",
       "      <th></th>\n",
       "      <th>text</th>\n",
       "      <th>airline_sentiment</th>\n",
       "    </tr>\n",
       "  </thead>\n",
       "  <tbody>\n",
       "    <tr>\n",
       "      <th>0</th>\n",
       "      <td>[said]</td>\n",
       "      <td>1</td>\n",
       "    </tr>\n",
       "    <tr>\n",
       "      <th>1</th>\n",
       "      <td>[plus, ad, commerci, experi, tacki]</td>\n",
       "      <td>2</td>\n",
       "    </tr>\n",
       "    <tr>\n",
       "      <th>2</th>\n",
       "      <td>[today, must, mean, need, take, anoth, trip]</td>\n",
       "      <td>1</td>\n",
       "    </tr>\n",
       "    <tr>\n",
       "      <th>3</th>\n",
       "      <td>[realli, aggress, blast, obnoxi, entertain, gu...</td>\n",
       "      <td>0</td>\n",
       "    </tr>\n",
       "    <tr>\n",
       "      <th>4</th>\n",
       "      <td>[realli, big, bad, thing]</td>\n",
       "      <td>0</td>\n",
       "    </tr>\n",
       "  </tbody>\n",
       "</table>\n",
       "</div>"
      ],
      "text/plain": [
       "                                                text  airline_sentiment\n",
       "0                                             [said]                  1\n",
       "1                [plus, ad, commerci, experi, tacki]                  2\n",
       "2       [today, must, mean, need, take, anoth, trip]                  1\n",
       "3  [realli, aggress, blast, obnoxi, entertain, gu...                  0\n",
       "4                          [realli, big, bad, thing]                  0"
      ]
     },
     "execution_count": 9,
     "metadata": {},
     "output_type": "execute_result"
    }
   ],
   "source": [
    "df.head()"
   ]
  },
  {
   "cell_type": "code",
   "execution_count": 10,
   "metadata": {},
   "outputs": [
    {
     "data": {
      "text/plain": [
       "(13176, 1464)"
      ]
     },
     "execution_count": 10,
     "metadata": {},
     "output_type": "execute_result"
    }
   ],
   "source": [
    "from sklearn.model_selection import train_test_split\n",
    "\n",
    "df_train, df_test = train_test_split(df, test_size=0.1, stratify=df.airline_sentiment.values, random_state=SEED)\n",
    "len(df_train), len(df_test)"
   ]
  },
  {
   "cell_type": "code",
   "execution_count": 11,
   "metadata": {},
   "outputs": [
    {
     "name": "stderr",
     "output_type": "stream",
     "text": [
      "100%|█████████████████████████████████| 13176/13176 [00:00<00:00, 469821.38it/s]\n",
      "100%|███████████████████████████████████| 1464/1464 [00:00<00:00, 400290.81it/s]"
     ]
    },
    {
     "name": "stdout",
     "output_type": "stream",
     "text": [
      "2114\n"
     ]
    },
    {
     "name": "stderr",
     "output_type": "stream",
     "text": [
      "\n"
     ]
    }
   ],
   "source": [
    "from collections import Counter\n",
    "\n",
    "class Vocab:\n",
    "    def __init__(self, texts, min_freq=5):\n",
    "        self.tokens = {'<pad>': 0, '<bos>':1, '<eos>': 2, '<unk>': 3}\n",
    "        \n",
    "        tokens = Counter()\n",
    "        for text in texts:\n",
    "            tokens.update(text)\n",
    "            \n",
    "        i = len(self.tokens)\n",
    "        for t, freq in tokens.items():\n",
    "            if freq >= min_freq:\n",
    "                self.tokens[t] = i\n",
    "                i += 1\n",
    "            \n",
    "    def encode(self, text):\n",
    "        return [1] + [self.tokens.get(t, 3) for t in text] + [2]\n",
    "    \n",
    "    \n",
    "vocab = Vocab(df_train.text)\n",
    "\n",
    "df_train['text'] = df_train['text'].progress_apply(vocab.encode)\n",
    "df_test['text'] = df_test['text'].progress_apply(vocab.encode)\n",
    "\n",
    "print(len(vocab.tokens))"
   ]
  },
  {
   "cell_type": "code",
   "execution_count": 12,
   "metadata": {},
   "outputs": [
    {
     "data": {
      "text/html": [
       "<div>\n",
       "<style scoped>\n",
       "    .dataframe tbody tr th:only-of-type {\n",
       "        vertical-align: middle;\n",
       "    }\n",
       "\n",
       "    .dataframe tbody tr th {\n",
       "        vertical-align: top;\n",
       "    }\n",
       "\n",
       "    .dataframe thead th {\n",
       "        text-align: right;\n",
       "    }\n",
       "</style>\n",
       "<table border=\"1\" class=\"dataframe\">\n",
       "  <thead>\n",
       "    <tr style=\"text-align: right;\">\n",
       "      <th></th>\n",
       "      <th>text</th>\n",
       "      <th>airline_sentiment</th>\n",
       "    </tr>\n",
       "  </thead>\n",
       "  <tbody>\n",
       "    <tr>\n",
       "      <th>14317</th>\n",
       "      <td>[1, 4, 5, 6, 2]</td>\n",
       "      <td>0</td>\n",
       "    </tr>\n",
       "    <tr>\n",
       "      <th>6790</th>\n",
       "      <td>[1, 7, 8, 9, 10, 11, 12, 2]</td>\n",
       "      <td>1</td>\n",
       "    </tr>\n",
       "    <tr>\n",
       "      <th>2840</th>\n",
       "      <td>[1, 13, 14, 15, 2]</td>\n",
       "      <td>2</td>\n",
       "    </tr>\n",
       "    <tr>\n",
       "      <th>378</th>\n",
       "      <td>[1, 16, 17, 18, 19, 20, 7, 21, 22, 23, 24, 2]</td>\n",
       "      <td>2</td>\n",
       "    </tr>\n",
       "    <tr>\n",
       "      <th>3047</th>\n",
       "      <td>[1, 25, 26, 2]</td>\n",
       "      <td>0</td>\n",
       "    </tr>\n",
       "  </tbody>\n",
       "</table>\n",
       "</div>"
      ],
      "text/plain": [
       "                                                text  airline_sentiment\n",
       "14317                                [1, 4, 5, 6, 2]                  0\n",
       "6790                     [1, 7, 8, 9, 10, 11, 12, 2]                  1\n",
       "2840                              [1, 13, 14, 15, 2]                  2\n",
       "378    [1, 16, 17, 18, 19, 20, 7, 21, 22, 23, 24, 2]                  2\n",
       "3047                                  [1, 25, 26, 2]                  0"
      ]
     },
     "execution_count": 12,
     "metadata": {},
     "output_type": "execute_result"
    }
   ],
   "source": [
    "df_train.head()"
   ]
  },
  {
   "cell_type": "code",
   "execution_count": 13,
   "metadata": {},
   "outputs": [
    {
     "name": "stderr",
     "output_type": "stream",
     "text": [
      "/home/denaas/anaconda3/lib/python3.7/site-packages/seaborn/distributions.py:2619: FutureWarning: `distplot` is a deprecated function and will be removed in a future version. Please adapt your code to use either `displot` (a figure-level function with similar flexibility) or `histplot` (an axes-level function for histograms).\n",
      "  warnings.warn(msg, FutureWarning)\n"
     ]
    },
    {
     "data": {
      "text/plain": [
       "<AxesSubplot:xlabel='text', ylabel='Density'>"
      ]
     },
     "execution_count": 13,
     "metadata": {},
     "output_type": "execute_result"
    },
    {
     "data": {
      "image/png": "[encoded data removed]",
      "text/plain": [
       "<Figure size 432x288 with 1 Axes>"
      ]
     },
     "metadata": {
      "needs_background": "light"
     },
     "output_type": "display_data"
    }
   ],
   "source": [
    "import seaborn as sns\n",
    "\n",
    "\n",
    "sns.distplot(df_train.text.apply(len))"
   ]
  },
  {
   "cell_type": "code",
   "execution_count": 14,
   "metadata": {},
   "outputs": [
    {
     "name": "stderr",
     "output_type": "stream",
     "text": [
      "100%|█████████████████████████████████| 13176/13176 [00:00<00:00, 523384.31it/s]\n",
      "100%|███████████████████████████████████| 1464/1464 [00:00<00:00, 828560.39it/s]\n"
     ]
    }
   ],
   "source": [
    "max_len = 20\n",
    "\n",
    "df_train['text'] = df_train['text'].progress_apply(lambda x: x[:max_len] + [0]*max(max_len-len(x), 0))\n",
    "df_test['text'] = df_test['text'].progress_apply(lambda x: x[:max_len] + [0]*max(max_len-len(x), 0))"
   ]
  },
  {
   "cell_type": "code",
   "execution_count": 15,
   "metadata": {},
   "outputs": [
    {
     "data": {
      "text/html": [
       "<div>\n",
       "<style scoped>\n",
       "    .dataframe tbody tr th:only-of-type {\n",
       "        vertical-align: middle;\n",
       "    }\n",
       "\n",
       "    .dataframe tbody tr th {\n",
       "        vertical-align: top;\n",
       "    }\n",
       "\n",
       "    .dataframe thead th {\n",
       "        text-align: right;\n",
       "    }\n",
       "</style>\n",
       "<table border=\"1\" class=\"dataframe\">\n",
       "  <thead>\n",
       "    <tr style=\"text-align: right;\">\n",
       "      <th></th>\n",
       "      <th>text</th>\n",
       "      <th>airline_sentiment</th>\n",
       "    </tr>\n",
       "  </thead>\n",
       "  <tbody>\n",
       "    <tr>\n",
       "      <th>14317</th>\n",
       "      <td>[1, 4, 5, 6, 2, 0, 0, 0, 0, 0, 0, 0, 0, 0, 0, ...</td>\n",
       "      <td>0</td>\n",
       "    </tr>\n",
       "    <tr>\n",
       "      <th>6790</th>\n",
       "      <td>[1, 7, 8, 9, 10, 11, 12, 2, 0, 0, 0, 0, 0, 0, ...</td>\n",
       "      <td>1</td>\n",
       "    </tr>\n",
       "    <tr>\n",
       "      <th>2840</th>\n",
       "      <td>[1, 13, 14, 15, 2, 0, 0, 0, 0, 0, 0, 0, 0, 0, ...</td>\n",
       "      <td>2</td>\n",
       "    </tr>\n",
       "    <tr>\n",
       "      <th>378</th>\n",
       "      <td>[1, 16, 17, 18, 19, 20, 7, 21, 22, 23, 24, 2, ...</td>\n",
       "      <td>2</td>\n",
       "    </tr>\n",
       "    <tr>\n",
       "      <th>3047</th>\n",
       "      <td>[1, 25, 26, 2, 0, 0, 0, 0, 0, 0, 0, 0, 0, 0, 0...</td>\n",
       "      <td>0</td>\n",
       "    </tr>\n",
       "  </tbody>\n",
       "</table>\n",
       "</div>"
      ],
      "text/plain": [
       "                                                    text  airline_sentiment\n",
       "14317  [1, 4, 5, 6, 2, 0, 0, 0, 0, 0, 0, 0, 0, 0, 0, ...                  0\n",
       "6790   [1, 7, 8, 9, 10, 11, 12, 2, 0, 0, 0, 0, 0, 0, ...                  1\n",
       "2840   [1, 13, 14, 15, 2, 0, 0, 0, 0, 0, 0, 0, 0, 0, ...                  2\n",
       "378    [1, 16, 17, 18, 19, 20, 7, 21, 22, 23, 24, 2, ...                  2\n",
       "3047   [1, 25, 26, 2, 0, 0, 0, 0, 0, 0, 0, 0, 0, 0, 0...                  0"
      ]
     },
     "execution_count": 15,
     "metadata": {},
     "output_type": "execute_result"
    }
   ],
   "source": [
    "df_train.head()"
   ]
  },
  {
   "cell_type": "code",
   "execution_count": 16,
   "metadata": {},
   "outputs": [],
   "source": [
    "from torch.utils.data import TensorDataset, DataLoader\n",
    "\n",
    "ds_train = TensorDataset(\n",
    "    torch.tensor(np.vstack(df_train.text.values)).long(),\n",
    "    torch.tensor(df_train.airline_sentiment.values).long()\n",
    ")\n",
    "\n",
    "ds_test = TensorDataset(\n",
    "    torch.tensor(np.vstack(df_test.text.values)).long(),\n",
    "    torch.tensor(df_test.airline_sentiment.values).long()\n",
    ")"
   ]
  },
  {
   "cell_type": "code",
   "execution_count": 17,
   "metadata": {},
   "outputs": [],
   "source": [
    "loaders = {\n",
    "    \"train\": DataLoader(ds_train, batch_size=64, shuffle=True),\n",
    "    \"valid\": DataLoader(ds_test, batch_size=64, shuffle=False),\n",
    "}"
   ]
  },
  {
   "cell_type": "code",
   "execution_count": 18,
   "metadata": {},
   "outputs": [],
   "source": [
    "class TextClassifier(nn.Module):\n",
    "    \n",
    "    def __init__(self, vocab_size, embed_size, hidden_size, kernels):\n",
    "        super(TextClassifier, self).__init__()\n",
    "        self.embedding = nn.Embedding(vocab_size, embed_size)\n",
    "        \n",
    "        self.convs = nn.ModuleList([nn.Conv1d(embed_size, hidden_size, k, padding=0) for k in kernels])\n",
    "        \n",
    "        self.fc = nn.Linear(hidden_size * len(kernels), 3)\n",
    "        \n",
    "    def forward(self, x):        \n",
    "        x = self.embedding(x)\n",
    "        x = x.transpose(1,2)\n",
    "        \n",
    "        concatenated = []\n",
    "        for conv in self.convs:\n",
    "            z = conv(x)\n",
    "            z = F.max_pool1d(z, kernel_size=z.size(2))\n",
    "            z = z.squeeze(2)\n",
    "            concatenated.append(z)\n",
    "            \n",
    "        x = torch.cat(concatenated, 1)\n",
    "        x = self.fc(x)\n",
    "        return x"
   ]
  },
  {
   "cell_type": "code",
   "execution_count": 19,
   "metadata": {},
   "outputs": [],
   "source": [
    "model = TextClassifier(len(vocab.tokens),\n",
    "                embed_size=100,\n",
    "                hidden_size=128,\n",
    "                kernels=[2,3,4]\n",
    "               )\n",
    "\n",
    "optimizer = optim.Adam(model.parameters())\n",
    "criterion = nn.CrossEntropyLoss()"
   ]
  },
  {
   "cell_type": "code",
   "execution_count": 20,
   "metadata": {},
   "outputs": [
    {
     "data": {
      "application/vnd.jupyter.widget-view+json": {
       "model_id": "08c708f06e134634a878d04c366eac8e",
       "version_major": 2,
       "version_minor": 0
      },
      "text/plain": [
       "1/10 * Epoch (train):   0%|          | 0/206 [00:00<?, ?it/s]"
      ]
     },
     "metadata": {},
     "output_type": "display_data"
    },
    {
     "name": "stdout",
     "output_type": "stream",
     "text": [
      "train (1/10) accuracy01: 0.7096994537690515 | accuracy01/std: 0.07379301649628364 | loss: 0.6904350530399144 | loss/mean: 0.6904350530399144 | loss/std: 0.12362614573568596 | lr: 0.001 | momentum: 0.9\n"
     ]
    },
    {
     "data": {
      "application/vnd.jupyter.widget-view+json": {
       "model_id": "69a42353cd914dc4b70896c020828c75",
       "version_major": 2,
       "version_minor": 0
      },
      "text/plain": [
       "1/10 * Epoch (valid):   0%|          | 0/23 [00:00<?, ?it/s]"
      ]
     },
     "metadata": {},
     "output_type": "display_data"
    },
    {
     "name": "stdout",
     "output_type": "stream",
     "text": [
      "valid (1/10) accuracy01: 0.7520491806535773 | accuracy01/std: 0.04465987189658219 | loss: 0.6248541415714827 | loss/mean: 0.6248541415714827 | loss/std: 0.06730973405453063 | lr: 0.001 | momentum: 0.9\n",
      "* Epoch (1/10) \n"
     ]
    },
    {
     "data": {
      "application/vnd.jupyter.widget-view+json": {
       "model_id": "aa7e78eca9a848a981cd19f812de3ab7",
       "version_major": 2,
       "version_minor": 0
      },
      "text/plain": [
       "2/10 * Epoch (train):   0%|          | 0/206 [00:00<?, ?it/s]"
      ]
     },
     "metadata": {},
     "output_type": "display_data"
    },
    {
     "name": "stdout",
     "output_type": "stream",
     "text": [
      "train (2/10) accuracy01: 0.8014571951531464 | accuracy01/std: 0.05188763026471395 | loss: 0.4956191369599839 | loss/mean: 0.4956191369599839 | loss/std: 0.08601986689566513 | lr: 0.001 | momentum: 0.9\n"
     ]
    },
    {
     "data": {
      "application/vnd.jupyter.widget-view+json": {
       "model_id": "23c9059f9377426a8e3b437cd8c5507d",
       "version_major": 2,
       "version_minor": 0
      },
      "text/plain": [
       "2/10 * Epoch (valid):   0%|          | 0/23 [00:00<?, ?it/s]"
      ]
     },
     "metadata": {},
     "output_type": "display_data"
    },
    {
     "name": "stdout",
     "output_type": "stream",
     "text": [
      "valid (2/10) accuracy01: 0.7732240453443893 | accuracy01/std: 0.0336522681276512 | loss: 0.5920894986293356 | loss/mean: 0.5920894986293356 | loss/std: 0.07678701051534112 | lr: 0.001 | momentum: 0.9\n",
      "* Epoch (2/10) \n"
     ]
    },
    {
     "data": {
      "application/vnd.jupyter.widget-view+json": {
       "model_id": "e289702a7d2449fab0ff99bbef0593cb",
       "version_major": 2,
       "version_minor": 0
      },
      "text/plain": [
       "3/10 * Epoch (train):   0%|          | 0/206 [00:00<?, ?it/s]"
      ]
     },
     "metadata": {},
     "output_type": "display_data"
    },
    {
     "name": "stdout",
     "output_type": "stream",
     "text": [
      "train (3/10) accuracy01: 0.8636915604852512 | accuracy01/std: 0.041635990148281364 | loss: 0.3587740287139479 | loss/mean: 0.3587740287139479 | loss/std: 0.06644045654196305 | lr: 0.001 | momentum: 0.9\n"
     ]
    },
    {
     "data": {
      "application/vnd.jupyter.widget-view+json": {
       "model_id": "5f2493c5f1bd4dc29e334f8e2c77c07e",
       "version_major": 2,
       "version_minor": 0
      },
      "text/plain": [
       "3/10 * Epoch (valid):   0%|          | 0/23 [00:00<?, ?it/s]"
      ]
     },
     "metadata": {},
     "output_type": "display_data"
    },
    {
     "name": "stdout",
     "output_type": "stream",
     "text": [
      "valid (3/10) accuracy01: 0.7786885258929978 | accuracy01/std: 0.05624178437974299 | loss: 0.5986941922557809 | loss/mean: 0.5986941922557809 | loss/std: 0.10933719111996376 | lr: 0.001 | momentum: 0.9\n",
      "* Epoch (3/10) \n"
     ]
    },
    {
     "data": {
      "application/vnd.jupyter.widget-view+json": {
       "model_id": "fc43e2071846479db573fc7acf711595",
       "version_major": 2,
       "version_minor": 0
      },
      "text/plain": [
       "4/10 * Epoch (train):   0%|          | 0/206 [00:00<?, ?it/s]"
      ]
     },
     "metadata": {},
     "output_type": "display_data"
    },
    {
     "name": "stdout",
     "output_type": "stream",
     "text": [
      "train (4/10) accuracy01: 0.9215998786756615 | accuracy01/std: 0.03184508149899819 | loss: 0.24195342743005913 | loss/mean: 0.24195342743005913 | loss/std: 0.05510725827853049 | lr: 0.001 | momentum: 0.9\n"
     ]
    },
    {
     "data": {
      "application/vnd.jupyter.widget-view+json": {
       "model_id": "a37b68ede0824d6fb1da6ff3169ba1b2",
       "version_major": 2,
       "version_minor": 0
      },
      "text/plain": [
       "4/10 * Epoch (valid):   0%|          | 0/23 [00:00<?, ?it/s]"
      ]
     },
     "metadata": {},
     "output_type": "display_data"
    },
    {
     "name": "stdout",
     "output_type": "stream",
     "text": [
      "valid (4/10) accuracy01: 0.7616120234864657 | accuracy01/std: 0.05156239254068643 | loss: 0.6473974973126189 | loss/mean: 0.6473974973126189 | loss/std: 0.11851445387003226 | lr: 0.001 | momentum: 0.9\n",
      "* Epoch (4/10) \n"
     ]
    },
    {
     "data": {
      "application/vnd.jupyter.widget-view+json": {
       "model_id": "8c2dbb978bce436589272b4aca6d041b",
       "version_major": 2,
       "version_minor": 0
      },
      "text/plain": [
       "5/10 * Epoch (train):   0%|          | 0/206 [00:00<?, ?it/s]"
      ]
     },
     "metadata": {},
     "output_type": "display_data"
    },
    {
     "name": "stdout",
     "output_type": "stream",
     "text": [
      "train (5/10) accuracy01: 0.9603066182020726 | accuracy01/std: 0.02448881634366104 | loss: 0.1549410431509533 | loss/mean: 0.1549410431509533 | loss/std: 0.05035742155255228 | lr: 0.001 | momentum: 0.9\n"
     ]
    },
    {
     "data": {
      "application/vnd.jupyter.widget-view+json": {
       "model_id": "4d8bd476b89a441eb19e62b9d63be80e",
       "version_major": 2,
       "version_minor": 0
      },
      "text/plain": [
       "5/10 * Epoch (valid):   0%|          | 0/23 [00:00<?, ?it/s]"
      ]
     },
     "metadata": {},
     "output_type": "display_data"
    },
    {
     "name": "stdout",
     "output_type": "stream",
     "text": [
      "valid (5/10) accuracy01: 0.7711748650165203 | accuracy01/std: 0.04662669241406192 | loss: 0.6855283193900937 | loss/mean: 0.6855283193900937 | loss/std: 0.1456179748084393 | lr: 0.001 | momentum: 0.9\n",
      "* Epoch (5/10) \n"
     ]
    },
    {
     "data": {
      "application/vnd.jupyter.widget-view+json": {
       "model_id": "613b8460f4394b38a95312333b56efdc",
       "version_major": 2,
       "version_minor": 0
      },
      "text/plain": [
       "6/10 * Epoch (train):   0%|          | 0/206 [00:00<?, ?it/s]"
      ]
     },
     "metadata": {},
     "output_type": "display_data"
    },
    {
     "name": "stdout",
     "output_type": "stream",
     "text": [
      "train (6/10) accuracy01: 0.9748026716687425 | accuracy01/std: 0.0203996150116564 | loss: 0.10819447359028336 | loss/mean: 0.10819447359028336 | loss/std: 0.052202417594088904 | lr: 0.001 | momentum: 0.9\n"
     ]
    },
    {
     "data": {
      "application/vnd.jupyter.widget-view+json": {
       "model_id": "ffad6fb9ff6b476491a133ba3830d49b",
       "version_major": 2,
       "version_minor": 0
      },
      "text/plain": [
       "6/10 * Epoch (valid):   0%|          | 0/23 [00:00<?, ?it/s]"
      ]
     },
     "metadata": {},
     "output_type": "display_data"
    },
    {
     "name": "stdout",
     "output_type": "stream",
     "text": [
      "valid (6/10) accuracy01: 0.764344264575041 | accuracy01/std: 0.04866218027898639 | loss: 0.7444165580259647 | loss/mean: 0.7444165580259647 | loss/std: 0.17208778523799234 | lr: 0.001 | momentum: 0.9\n",
      "* Epoch (6/10) \n"
     ]
    },
    {
     "data": {
      "application/vnd.jupyter.widget-view+json": {
       "model_id": "0317618c6c6446ca814b3a7efa218636",
       "version_major": 2,
       "version_minor": 0
      },
      "text/plain": [
       "7/10 * Epoch (train):   0%|          | 0/206 [00:00<?, ?it/s]"
      ]
     },
     "metadata": {},
     "output_type": "display_data"
    },
    {
     "name": "stdout",
     "output_type": "stream",
     "text": [
      "train (7/10) accuracy01: 0.9793564055859142 | accuracy01/std: 0.017309422732202637 | loss: 0.08831411069931955 | loss/mean: 0.08831411069931955 | loss/std: 0.04788148928319087 | lr: 0.001 | momentum: 0.9\n"
     ]
    },
    {
     "data": {
      "application/vnd.jupyter.widget-view+json": {
       "model_id": "340397ad74424a7d824541ebd4ed5a66",
       "version_major": 2,
       "version_minor": 0
      },
      "text/plain": [
       "7/10 * Epoch (valid):   0%|          | 0/23 [00:00<?, ?it/s]"
      ]
     },
     "metadata": {},
     "output_type": "display_data"
    },
    {
     "name": "stdout",
     "output_type": "stream",
     "text": [
      "valid (7/10) accuracy01: 0.7547814217421527 | accuracy01/std: 0.058382266869173804 | loss: 0.8287386421948835 | loss/mean: 0.8287386421948835 | loss/std: 0.18445740531290103 | lr: 0.001 | momentum: 0.9\n",
      "* Epoch (7/10) \n"
     ]
    },
    {
     "data": {
      "application/vnd.jupyter.widget-view+json": {
       "model_id": "f33f53987a184adb9c0d49fe212fe520",
       "version_major": 2,
       "version_minor": 0
      },
      "text/plain": [
       "8/10 * Epoch (train):   0%|          | 0/206 [00:00<?, ?it/s]"
      ]
     },
     "metadata": {},
     "output_type": "display_data"
    },
    {
     "name": "stdout",
     "output_type": "stream",
     "text": [
      "train (8/10) accuracy01: 0.9829993928354586 | accuracy01/std: 0.016739694771276424 | loss: 0.07574061577111652 | loss/mean: 0.07574061577111652 | loss/std: 0.05231631858159359 | lr: 0.001 | momentum: 0.9\n"
     ]
    },
    {
     "data": {
      "application/vnd.jupyter.widget-view+json": {
       "model_id": "7ee30e9cc7ee4c14a61cba6c8a4545eb",
       "version_major": 2,
       "version_minor": 0
      },
      "text/plain": [
       "8/10 * Epoch (valid):   0%|          | 0/23 [00:00<?, ?it/s]"
      ]
     },
     "metadata": {},
     "output_type": "display_data"
    },
    {
     "name": "stdout",
     "output_type": "stream",
     "text": [
      "valid (8/10) accuracy01: 0.7732240453443892 | accuracy01/std: 0.05429635109351006 | loss: 0.8081279582664614 | loss/mean: 0.8081279582664614 | loss/std: 0.2015108839924524 | lr: 0.001 | momentum: 0.9\n",
      "* Epoch (8/10) \n"
     ]
    },
    {
     "data": {
      "application/vnd.jupyter.widget-view+json": {
       "model_id": "b371ab8851e44afa870a1a2ce9a642a3",
       "version_major": 2,
       "version_minor": 0
      },
      "text/plain": [
       "9/10 * Epoch (train):   0%|          | 0/206 [00:00<?, ?it/s]"
      ]
     },
     "metadata": {},
     "output_type": "display_data"
    },
    {
     "name": "stdout",
     "output_type": "stream",
     "text": [
      "train (9/10) accuracy01: 0.9813296903460835 | accuracy01/std: 0.017896187725734588 | loss: 0.08031012110285456 | loss/mean: 0.08031012110285456 | loss/std: 0.06361253184176442 | lr: 0.001 | momentum: 0.9\n"
     ]
    },
    {
     "data": {
      "application/vnd.jupyter.widget-view+json": {
       "model_id": "e58d8062e071461082d3a04669eedbe4",
       "version_major": 2,
       "version_minor": 0
      },
      "text/plain": [
       "9/10 * Epoch (valid):   0%|          | 0/23 [00:00<?, ?it/s]"
      ]
     },
     "metadata": {},
     "output_type": "display_data"
    },
    {
     "name": "stdout",
     "output_type": "stream",
     "text": [
      "valid (9/10) accuracy01: 0.760928964028593 | accuracy01/std: 0.05154904982615156 | loss: 0.8505249072293765 | loss/mean: 0.8505249072293765 | loss/std: 0.20771392817708423 | lr: 0.001 | momentum: 0.9\n",
      "* Epoch (9/10) \n"
     ]
    },
    {
     "data": {
      "application/vnd.jupyter.widget-view+json": {
       "model_id": "a2f4ddd5fc7e4f8d99abb911f9ff5f55",
       "version_major": 2,
       "version_minor": 0
      },
      "text/plain": [
       "10/10 * Epoch (train):   0%|          | 0/206 [00:00<?, ?it/s]"
      ]
     },
     "metadata": {},
     "output_type": "display_data"
    },
    {
     "name": "stdout",
     "output_type": "stream",
     "text": [
      "train (10/10) accuracy01: 0.9848967823174481 | accuracy01/std: 0.0164000433780252 | loss: 0.06886493845751741 | loss/mean: 0.06886493845751741 | loss/std: 0.06693190916791684 | lr: 0.001 | momentum: 0.9\n"
     ]
    },
    {
     "data": {
      "application/vnd.jupyter.widget-view+json": {
       "model_id": "d69473c30d2c49e5a9e38f6b52ce2f06",
       "version_major": 2,
       "version_minor": 0
      },
      "text/plain": [
       "10/10 * Epoch (valid):   0%|          | 0/23 [00:00<?, ?it/s]"
      ]
     },
     "metadata": {},
     "output_type": "display_data"
    },
    {
     "name": "stdout",
     "output_type": "stream",
     "text": [
      "valid (10/10) accuracy01: 0.771174864690812 | accuracy01/std: 0.04806077865034212 | loss: 0.8936345697752113 | loss/mean: 0.8936345697752113 | loss/std: 0.2110949437705731 | lr: 0.001 | momentum: 0.9\n",
      "* Epoch (10/10) \n",
      "Top best models:\n",
      "logs/checkpoints/train.2.pth\t0.5921\n"
     ]
    }
   ],
   "source": [
    "from catalyst import dl\n",
    "\n",
    "\n",
    "runner = dl.SupervisedRunner()\n",
    "runner.train(\n",
    "    model=model,\n",
    "    criterion=criterion,\n",
    "    optimizer=optimizer,\n",
    "    loaders=loaders,\n",
    "    num_epochs=10,\n",
    "    callbacks=[\n",
    "        dl.AccuracyCallback(input_key=\"logits\", target_key=\"targets\", topk_args=(1,), num_classes=3),\n",
    "    ],\n",
    "    logdir=\"./logs\",\n",
    "    valid_loader=\"valid\",\n",
    "    valid_metric=\"loss\",\n",
    "    verbose=True,\n",
    "    load_best_on_end=True,\n",
    "#     check=True,\n",
    ")"
   ]
  }
 ],
 "metadata": {
  "kernelspec": {
   "display_name": "Python 3 (ipykernel)",
   "language": "python",
   "name": "python3"
  },
  "language_info": {
   "codemirror_mode": {
    "name": "ipython",
    "version": 3
   },
   "file_extension": ".py",
   "mimetype": "text/x-python",
   "name": "python",
   "nbconvert_exporter": "python",
   "pygments_lexer": "ipython3",
   "version": "3.7.11"
  },
  "widgets": {
   "state": {},
   "version": "1.1.2"
  }
 },
 "nbformat": 4,
 "nbformat_minor": 2
}
