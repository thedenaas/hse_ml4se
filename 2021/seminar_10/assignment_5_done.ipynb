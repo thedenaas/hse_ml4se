{
 "cells": [
  {
   "cell_type": "markdown",
   "id": "18635ec1",
   "metadata": {},
   "source": [
    "# Assignment 5: Code Search Model\n",
    "\n",
    "Develop metric learning model with siamese network [3 points] and triplet loss [3 points] (from seminar). \n",
    "\n",
    "Use ANNS library for final prediction after the network was trained. [2 points]\n",
    "\n",
    "! Remember, that LSH gives you a set of neighbor candidates, for which you have to calculate distances to choose top-k nearest neighbors.\n",
    "\n",
    "\n",
    "Your quality metric = MAP@10 [2 points if acc > 0.8 ]"
   ]
  },
  {
   "cell_type": "code",
   "execution_count": 1,
   "id": "5bc3b7ea",
   "metadata": {},
   "outputs": [],
   "source": [
    "import datasets\n",
    "import numpy as np\n",
    "import pandas as pd\n",
    "from tqdm import tqdm\n",
    "\n",
    "tqdm.pandas()"
   ]
  },
  {
   "cell_type": "code",
   "execution_count": 2,
   "id": "e16901f0",
   "metadata": {},
   "outputs": [
    {
     "name": "stderr",
     "output_type": "stream",
     "text": [
      "Reusing dataset code_x_glue_tc_text_to_code (/home/denis.litvinov/.cache/huggingface/datasets/code_x_glue_tc_text_to_code/default/0.0.0/059898ce5bb35e72c699c69af37020002b38b251734ddaeedef30ae7e6292717)\n"
     ]
    },
    {
     "data": {
      "application/vnd.jupyter.widget-view+json": {
       "model_id": "b4450bca8bc74f29955509a0641f5cb8",
       "version_major": 2,
       "version_minor": 0
      },
      "text/plain": [
       "  0%|          | 0/3 [00:00<?, ?it/s]"
      ]
     },
     "metadata": {},
     "output_type": "display_data"
    },
    {
     "name": "stdout",
     "output_type": "stream",
     "text": [
      "95785\n"
     ]
    }
   ],
   "source": [
    "df = datasets.load_dataset('code_x_glue_tc_text_to_code')\n",
    "\n",
    "df_train, df_valid = df['train'], df['validation']\n",
    "\n",
    "def preprocess(df):\n",
    "    df = pd.DataFrame({'nl': df['nl'], 'code': df['code']})\n",
    "    df['nl'] = df['nl'].apply(lambda x: x[:x.rfind('.')].strip())\n",
    "    df['code'] = df['code'].apply(str.strip)\n",
    "    df = df.loc[df['nl'].apply(str.split).apply(len) > 3].reset_index(drop=True)\n",
    "    \n",
    "    # TODO You can make preprocessing for nl anc code\n",
    "    \n",
    "    return df\n",
    "\n",
    "df_train = preprocess(df_train)\n",
    "df_valid = preprocess(df_valid)\n",
    "    \n",
    "print(len(df_train))"
   ]
  },
  {
   "cell_type": "code",
   "execution_count": 3,
   "id": "25388f0f",
   "metadata": {
    "scrolled": true
   },
   "outputs": [],
   "source": [
    "with open('nl.txt', 'w') as f:\n",
    "    for x in df_train['nl']:\n",
    "        f.write(x + '\\n')\n",
    "        \n",
    "with open('code.txt', 'w') as f:\n",
    "    for x in df_train['code']:\n",
    "        f.write(x + '\\n')"
   ]
  },
  {
   "cell_type": "code",
   "execution_count": 5,
   "id": "10462585",
   "metadata": {},
   "outputs": [],
   "source": [
    "from dataclasses import dataclass\n",
    "\n",
    "\n",
    "@dataclass\n",
    "class Config:\n",
    "    pass\n",
    "\n",
    "config = Config()\n",
    "\n",
    "config.vocab_size = 16000"
   ]
  },
  {
   "cell_type": "code",
   "execution_count": 6,
   "id": "9e0d5166-b8c7-480d-9e68-d6088db51f4b",
   "metadata": {},
   "outputs": [],
   "source": [
    "from tokenizers import normalizers, Tokenizer \n",
    "from tokenizers.normalizers import NFD, StripAccents, Lowercase\n",
    "from tokenizers.models import BPE\n",
    "from tokenizers.trainers import BpeTrainer\n",
    "from tokenizers.processors import TemplateProcessing, BertProcessing"
   ]
  },
  {
   "cell_type": "code",
   "execution_count": 7,
   "id": "2ff4e638-b2d1-4e7f-a2cc-793870f7a6f0",
   "metadata": {},
   "outputs": [
    {
     "name": "stdout",
     "output_type": "stream",
     "text": [
      "\n",
      "\n",
      "\n"
     ]
    }
   ],
   "source": [
    "nl_tokenizer = Tokenizer(BPE(unk_token=\"[UNK]\"))\n",
    "nl_tokenizer.normalizer = normalizers.Sequence([NFD(), Lowercase(), StripAccents()])\n",
    "nl_tokenizer.post_processor = TemplateProcessing(\n",
    "    single=\"[CLS] $A [SEP]\",\n",
    "    special_tokens=[(\"[CLS]\", 1), (\"[SEP]\", 2)],\n",
    ")\n",
    "trainer = BpeTrainer(vocab_size=config.vocab_size, special_tokens=[\"[PAD]\", \"[CLS]\", \"[SEP]\", \"[UNK]\"])\n",
    "nl_tokenizer.train(['nl.txt', 'code.txt'], trainer)\n",
    "\n",
    "code_tokenizer = nl_tokenizer"
   ]
  },
  {
   "cell_type": "code",
   "execution_count": 8,
   "id": "24a5648f",
   "metadata": {},
   "outputs": [
    {
     "name": "stderr",
     "output_type": "stream",
     "text": [
      "100%|██████████| 95785/95785 [00:12<00:00, 7535.74it/s]\n",
      "100%|██████████| 1909/1909 [00:00<00:00, 8919.77it/s]\n",
      "100%|██████████| 95785/95785 [00:04<00:00, 20001.94it/s]\n",
      "100%|██████████| 1909/1909 [00:00<00:00, 17502.36it/s]\n"
     ]
    }
   ],
   "source": [
    "config.nl_max_len = 64\n",
    "config.code_max_len = 32\n",
    "\n",
    "\n",
    "nl_tokenizer.enable_padding(length=config.nl_max_len)\n",
    "nl_tokenizer.enable_truncation(max_length=config.nl_max_len)\n",
    "for df in (df_train, df_valid):\n",
    "    df['nl_encoded'] = df['nl'].progress_apply(lambda x: nl_tokenizer.encode(x).ids)\n",
    "\n",
    "code_tokenizer.enable_padding(length=config.code_max_len)\n",
    "code_tokenizer.enable_truncation(max_length=config.code_max_len)\n",
    "for df in (df_train, df_valid):\n",
    "    df['code_encoded'] = df['code'].progress_apply(lambda x: code_tokenizer.encode(x).ids)"
   ]
  },
  {
   "cell_type": "code",
   "execution_count": 9,
   "id": "597c3687",
   "metadata": {},
   "outputs": [],
   "source": [
    "from torch.utils.data import Dataset, DataLoader\n",
    "import torch\n",
    "\n",
    "\n",
    "class MyDataset(Dataset):\n",
    "    def __init__(self, df):\n",
    "        self.df = df\n",
    "        \n",
    "    def __len__(self):\n",
    "        return len(self.df)\n",
    "    \n",
    "    def __getitem__(self, i):\n",
    "        \n",
    "        nl = self.df['nl_encoded'].iloc[i]\n",
    "        code = self.df['code_encoded'].iloc[i]\n",
    "        \n",
    "        nl = torch.tensor(nl).long()\n",
    "        code = torch.tensor(code).long()\n",
    "        \n",
    "        return (nl, code), 1"
   ]
  },
  {
   "cell_type": "code",
   "execution_count": 10,
   "id": "e0ea954a",
   "metadata": {},
   "outputs": [],
   "source": [
    "config.batch_size = 256\n",
    "\n",
    "loaders = {\n",
    "    'train': DataLoader(MyDataset(df_train), batch_size=config.batch_size, shuffle=True),\n",
    "    'valid': DataLoader(MyDataset(df_valid), batch_size=config.batch_size, shuffle=False),\n",
    "}"
   ]
  },
  {
   "cell_type": "code",
   "execution_count": 11,
   "id": "52530cf0",
   "metadata": {},
   "outputs": [],
   "source": [
    "import torch.nn as nn\n",
    "from transformers import BertModel, BertConfig\n",
    "\n",
    "\n",
    "class SentenceEmbed(nn.Module):\n",
    "    def __init__(self, config):\n",
    "        super(SentenceEmbed, self).__init__()\n",
    "        \n",
    "        self.bert = BertModel(BertConfig(\n",
    "            vocab_size=config.vocab_size,\n",
    "            hidden_size=config.d_model,\n",
    "            num_hidden_layers=config.num_layers,\n",
    "            num_attention_heads=config.nheads,\n",
    "            intermediate_size=config.d_ff,\n",
    "            max_position_embeddings=config.ctx_size,\n",
    "            pad_token_id=0,\n",
    "        ), add_pooling_layer=False)\n",
    "\n",
    "        \n",
    "    def embed(self, x):\n",
    "        attn_mask = x != 0\n",
    "        x = self.bert(x, attn_mask, return_dict=True).last_hidden_state\n",
    "        x = (x * attn_mask.unsqueeze(2)).sum(dim=1) / attn_mask.sum(dim=1).view(-1,1)\n",
    "        x = x / torch.norm(x, dim=1, p=2).view(-1,1) \n",
    "        return x\n",
    "    \n",
    "    def forward(self, x):\n",
    "        nl, code = x\n",
    "        return self.embed(nl), self.embed(code)\n",
    "        "
   ]
  },
  {
   "cell_type": "code",
   "execution_count": 12,
   "id": "b142c393",
   "metadata": {},
   "outputs": [],
   "source": [
    "class TripletLoss(nn.Module):\n",
    "    def __init__(self, margin):\n",
    "        super(TripletLoss, self).__init__()\n",
    "        self.margin = margin\n",
    "        \n",
    "    def forward(self, x, _):\n",
    "        nl, code = x\n",
    "        M = nl @ code.T\n",
    "        \n",
    "        ix = torch.ones(M.shape[0]) - 2*torch.eye(M.shape[0])\n",
    "        ix = ix.cuda()\n",
    "        \n",
    "        pos = torch.diag(M)\n",
    "        neg = (M * ix).max(dim=1)[0]\n",
    "\n",
    "        loss = neg - pos + self.margin\n",
    "        loss = torch.maximum(loss, torch.zeros_like(loss))\n",
    "\n",
    "        return loss.mean()"
   ]
  },
  {
   "cell_type": "code",
   "execution_count": 13,
   "id": "4b29cae7",
   "metadata": {
    "scrolled": true,
    "tags": []
   },
   "outputs": [
    {
     "name": "stderr",
     "output_type": "stream",
     "text": [
      "/home/denis.litvinov/anaconda3/lib/python3.7/site-packages/promise/promise_list.py:2: DeprecationWarning: Using or importing the ABCs from 'collections' instead of from 'collections.abc' is deprecated since Python 3.3,and in 3.9 it will stop working\n",
      "  from collections import Iterable\n"
     ]
    },
    {
     "name": "stdout",
     "output_type": "stream",
     "text": [
      "huggingface/tokenizers: The current process just got forked, after parallelism has already been used. Disabling parallelism to avoid deadlocks...\n",
      "To disable this warning, you can either:\n",
      "\t- Avoid using `tokenizers` before the fork if possible\n",
      "\t- Explicitly set the environment variable TOKENIZERS_PARALLELISM=(true | false)\n",
      "huggingface/tokenizers: The current process just got forked, after parallelism has already been used. Disabling parallelism to avoid deadlocks...\n",
      "To disable this warning, you can either:\n",
      "\t- Avoid using `tokenizers` before the fork if possible\n",
      "\t- Explicitly set the environment variable TOKENIZERS_PARALLELISM=(true | false)\n",
      "huggingface/tokenizers: The current process just got forked, after parallelism has already been used. Disabling parallelism to avoid deadlocks...\n",
      "To disable this warning, you can either:\n",
      "\t- Avoid using `tokenizers` before the fork if possible\n",
      "\t- Explicitly set the environment variable TOKENIZERS_PARALLELISM=(true | false)\n"
     ]
    },
    {
     "name": "stderr",
     "output_type": "stream",
     "text": [
      "/home/denis.litvinov/anaconda3/lib/python3.7/site-packages/botocore/vendored/requests/packages/urllib3/_collections.py:1: DeprecationWarning: Using or importing the ABCs from 'collections' instead of from 'collections.abc' is deprecated since Python 3.3,and in 3.9 it will stop working\n",
      "  from collections import Mapping, MutableMapping\n",
      "/home/denis.litvinov/anaconda3/lib/python3.7/site-packages/matplotlib/backend_bases.py:57: DeprecationWarning: PILLOW_VERSION is deprecated and will be removed in Pillow 9 (2022-01-02). Use __version__ instead.\n",
      "  from PIL import PILLOW_VERSION\n"
     ]
    },
    {
     "data": {
      "application/vnd.jupyter.widget-view+json": {
       "model_id": "b7fb7b3e0e7b443f835a38f1e7406a0b",
       "version_major": 2,
       "version_minor": 0
      },
      "text/plain": [
       "1/15 * Epoch (train):   0%|          | 0/375 [00:00<?, ?it/s]"
      ]
     },
     "metadata": {},
     "output_type": "display_data"
    },
    {
     "name": "stdout",
     "output_type": "stream",
     "text": [
      "train (1/15) loss: 0.5008983974456788 | loss/mean: 0.5008983974456788 | loss/std: 0.0022302759945127524 | lr: 0.0001 | momentum: 0.9\n"
     ]
    },
    {
     "data": {
      "application/vnd.jupyter.widget-view+json": {
       "model_id": "8a77d1758b114db2b7aa060ee50530e8",
       "version_major": 2,
       "version_minor": 0
      },
      "text/plain": [
       "1/15 * Epoch (valid):   0%|          | 0/8 [00:00<?, ?it/s]"
      ]
     },
     "metadata": {},
     "output_type": "display_data"
    },
    {
     "name": "stdout",
     "output_type": "stream",
     "text": [
      "valid (1/15) loss: 0.5003439411520959 | loss/mean: 0.5003439411520959 | loss/std: 1.6136492156749903e-05 | lr: 0.0001 | momentum: 0.9\n",
      "* Epoch (1/15) \n"
     ]
    },
    {
     "data": {
      "application/vnd.jupyter.widget-view+json": {
       "model_id": "a22c89f6f47849ad998f542e5e7a5fd4",
       "version_major": 2,
       "version_minor": 0
      },
      "text/plain": [
       "2/15 * Epoch (train):   0%|          | 0/375 [00:00<?, ?it/s]"
      ]
     },
     "metadata": {},
     "output_type": "display_data"
    },
    {
     "name": "stdout",
     "output_type": "stream",
     "text": [
      "train (2/15) loss: 0.5003444307645161 | loss/mean: 0.5003444307645161 | loss/std: 4.810558186032933e-05 | lr: 0.0001 | momentum: 0.9\n"
     ]
    },
    {
     "data": {
      "application/vnd.jupyter.widget-view+json": {
       "model_id": "a52cd776510b4331b3d7531cc7ed7778",
       "version_major": 2,
       "version_minor": 0
      },
      "text/plain": [
       "2/15 * Epoch (valid):   0%|          | 0/8 [00:00<?, ?it/s]"
      ]
     },
     "metadata": {},
     "output_type": "display_data"
    },
    {
     "name": "stdout",
     "output_type": "stream",
     "text": [
      "valid (2/15) loss: 0.5004625767469406 | loss/mean: 0.5004625767469406 | loss/std: 2.404467918818591e-05 | lr: 0.0001 | momentum: 0.9\n",
      "* Epoch (2/15) \n"
     ]
    },
    {
     "data": {
      "application/vnd.jupyter.widget-view+json": {
       "model_id": "ba702445ffe4493280222e0411941cc6",
       "version_major": 2,
       "version_minor": 0
      },
      "text/plain": [
       "3/15 * Epoch (train):   0%|          | 0/375 [00:00<?, ?it/s]"
      ]
     },
     "metadata": {},
     "output_type": "display_data"
    },
    {
     "name": "stdout",
     "output_type": "stream",
     "text": [
      "train (3/15) loss: 0.4633107589085897 | loss/mean: 0.4633107589085897 | loss/std: 0.039818269182462125 | lr: 0.0001 | momentum: 0.9\n"
     ]
    },
    {
     "data": {
      "application/vnd.jupyter.widget-view+json": {
       "model_id": "e5846cf37b534bbe8ca8b33e5bbb4a45",
       "version_major": 2,
       "version_minor": 0
      },
      "text/plain": [
       "3/15 * Epoch (valid):   0%|          | 0/8 [00:00<?, ?it/s]"
      ]
     },
     "metadata": {},
     "output_type": "display_data"
    },
    {
     "name": "stdout",
     "output_type": "stream",
     "text": [
      "valid (3/15) loss: 0.4774097390472889 | loss/mean: 0.4774097390472889 | loss/std: 0.008027680413081014 | lr: 0.0001 | momentum: 0.9\n",
      "* Epoch (3/15) \n"
     ]
    },
    {
     "data": {
      "application/vnd.jupyter.widget-view+json": {
       "model_id": "a2c6ad8f79444ea08ac8d297266d6f41",
       "version_major": 2,
       "version_minor": 0
      },
      "text/plain": [
       "4/15 * Epoch (train):   0%|          | 0/375 [00:00<?, ?it/s]"
      ]
     },
     "metadata": {},
     "output_type": "display_data"
    },
    {
     "name": "stdout",
     "output_type": "stream",
     "text": [
      "train (4/15) loss: 0.3331197900772092 | loss/mean: 0.3331197900772092 | loss/std: 0.019200006589881066 | lr: 0.0001 | momentum: 0.9\n"
     ]
    },
    {
     "data": {
      "application/vnd.jupyter.widget-view+json": {
       "model_id": "fd4d7663f587445d9c807e23a4a1d7ea",
       "version_major": 2,
       "version_minor": 0
      },
      "text/plain": [
       "4/15 * Epoch (valid):   0%|          | 0/8 [00:00<?, ?it/s]"
      ]
     },
     "metadata": {},
     "output_type": "display_data"
    },
    {
     "name": "stdout",
     "output_type": "stream",
     "text": [
      "valid (4/15) loss: 0.44081367552280426 | loss/mean: 0.44081367552280426 | loss/std: 0.010350348337333306 | lr: 0.0001 | momentum: 0.9\n",
      "* Epoch (4/15) \n"
     ]
    },
    {
     "data": {
      "application/vnd.jupyter.widget-view+json": {
       "model_id": "bd963a5ef6ea45a3b606fed5a98bc523",
       "version_major": 2,
       "version_minor": 0
      },
      "text/plain": [
       "5/15 * Epoch (train):   0%|          | 0/375 [00:00<?, ?it/s]"
      ]
     },
     "metadata": {},
     "output_type": "display_data"
    },
    {
     "name": "stdout",
     "output_type": "stream",
     "text": [
      "train (5/15) loss: 0.27781703547636627 | loss/mean: 0.27781703547636627 | loss/std: 0.013387511793075945 | lr: 0.0001 | momentum: 0.9\n"
     ]
    },
    {
     "data": {
      "application/vnd.jupyter.widget-view+json": {
       "model_id": "0148cdc8205e491aa0039742fc5d9e14",
       "version_major": 2,
       "version_minor": 0
      },
      "text/plain": [
       "5/15 * Epoch (valid):   0%|          | 0/8 [00:00<?, ?it/s]"
      ]
     },
     "metadata": {},
     "output_type": "display_data"
    },
    {
     "name": "stdout",
     "output_type": "stream",
     "text": [
      "valid (5/15) loss: 0.42399003729224205 | loss/mean: 0.42399003729224205 | loss/std: 0.012987243479652596 | lr: 0.0001 | momentum: 0.9\n",
      "* Epoch (5/15) \n"
     ]
    },
    {
     "data": {
      "application/vnd.jupyter.widget-view+json": {
       "model_id": "962cab0f3abb416ab544447ac73bb64d",
       "version_major": 2,
       "version_minor": 0
      },
      "text/plain": [
       "6/15 * Epoch (train):   0%|          | 0/375 [00:00<?, ?it/s]"
      ]
     },
     "metadata": {},
     "output_type": "display_data"
    },
    {
     "name": "stdout",
     "output_type": "stream",
     "text": [
      "train (6/15) loss: 0.24804137615362803 | loss/mean: 0.24804137615362803 | loss/std: 0.012181350777831355 | lr: 0.0001 | momentum: 0.9\n"
     ]
    },
    {
     "data": {
      "application/vnd.jupyter.widget-view+json": {
       "model_id": "45a9777ebbe14830a8c223763ab6b4e1",
       "version_major": 2,
       "version_minor": 0
      },
      "text/plain": [
       "6/15 * Epoch (valid):   0%|          | 0/8 [00:00<?, ?it/s]"
      ]
     },
     "metadata": {},
     "output_type": "display_data"
    },
    {
     "name": "stdout",
     "output_type": "stream",
     "text": [
      "valid (6/15) loss: 0.41371555998921394 | loss/mean: 0.41371555998921394 | loss/std: 0.012732359171536527 | lr: 0.0001 | momentum: 0.9\n",
      "* Epoch (6/15) \n"
     ]
    },
    {
     "data": {
      "application/vnd.jupyter.widget-view+json": {
       "model_id": "bb4a2ec37d4b4aa5aff1dfd6e8c2ed23",
       "version_major": 2,
       "version_minor": 0
      },
      "text/plain": [
       "7/15 * Epoch (train):   0%|          | 0/375 [00:00<?, ?it/s]"
      ]
     },
     "metadata": {},
     "output_type": "display_data"
    },
    {
     "name": "stdout",
     "output_type": "stream",
     "text": [
      "train (7/15) loss: 0.2273654336531957 | loss/mean: 0.2273654336531957 | loss/std: 0.01259011810530611 | lr: 0.0001 | momentum: 0.9\n"
     ]
    },
    {
     "data": {
      "application/vnd.jupyter.widget-view+json": {
       "model_id": "f296df3598f94d228b609b8bf6cdf6e3",
       "version_major": 2,
       "version_minor": 0
      },
      "text/plain": [
       "7/15 * Epoch (valid):   0%|          | 0/8 [00:00<?, ?it/s]"
      ]
     },
     "metadata": {},
     "output_type": "display_data"
    },
    {
     "name": "stdout",
     "output_type": "stream",
     "text": [
      "valid (7/15) loss: 0.40821540728211403 | loss/mean: 0.40821540728211403 | loss/std: 0.012942162977099535 | lr: 0.0001 | momentum: 0.9\n",
      "* Epoch (7/15) \n"
     ]
    },
    {
     "data": {
      "application/vnd.jupyter.widget-view+json": {
       "model_id": "9c7123d6bf064ca09679bc91d7a68382",
       "version_major": 2,
       "version_minor": 0
      },
      "text/plain": [
       "8/15 * Epoch (train):   0%|          | 0/375 [00:00<?, ?it/s]"
      ]
     },
     "metadata": {},
     "output_type": "display_data"
    },
    {
     "name": "stdout",
     "output_type": "stream",
     "text": [
      "train (8/15) loss: 0.21179318916797643 | loss/mean: 0.21179318916797643 | loss/std: 0.012028431259663614 | lr: 0.0001 | momentum: 0.9\n"
     ]
    },
    {
     "data": {
      "application/vnd.jupyter.widget-view+json": {
       "model_id": "2907032e938e43338d29b68c1fd07da8",
       "version_major": 2,
       "version_minor": 0
      },
      "text/plain": [
       "8/15 * Epoch (valid):   0%|          | 0/8 [00:00<?, ?it/s]"
      ]
     },
     "metadata": {},
     "output_type": "display_data"
    },
    {
     "name": "stdout",
     "output_type": "stream",
     "text": [
      "valid (8/15) loss: 0.40488431975245476 | loss/mean: 0.40488431975245476 | loss/std: 0.013798566796666047 | lr: 0.0001 | momentum: 0.9\n",
      "* Epoch (8/15) \n"
     ]
    },
    {
     "data": {
      "application/vnd.jupyter.widget-view+json": {
       "model_id": "40a6ec4dc30340eaa142addc9ad7b8df",
       "version_major": 2,
       "version_minor": 0
      },
      "text/plain": [
       "9/15 * Epoch (train):   0%|          | 0/375 [00:00<?, ?it/s]"
      ]
     },
     "metadata": {},
     "output_type": "display_data"
    },
    {
     "name": "stdout",
     "output_type": "stream",
     "text": [
      "train (9/15) loss: 0.19944507447878523 | loss/mean: 0.19944507447878523 | loss/std: 0.011966094766936577 | lr: 0.0001 | momentum: 0.9\n"
     ]
    },
    {
     "data": {
      "application/vnd.jupyter.widget-view+json": {
       "model_id": "aaf03d02e43b4ec298427802a3e43297",
       "version_major": 2,
       "version_minor": 0
      },
      "text/plain": [
       "9/15 * Epoch (valid):   0%|          | 0/8 [00:00<?, ?it/s]"
      ]
     },
     "metadata": {},
     "output_type": "display_data"
    },
    {
     "name": "stdout",
     "output_type": "stream",
     "text": [
      "valid (9/15) loss: 0.40135500952601433 | loss/mean: 0.40135500952601433 | loss/std: 0.012887526714031323 | lr: 0.0001 | momentum: 0.9\n",
      "* Epoch (9/15) \n"
     ]
    },
    {
     "data": {
      "application/vnd.jupyter.widget-view+json": {
       "model_id": "29e4ccddc585484bb1c33e6aa0b9b408",
       "version_major": 2,
       "version_minor": 0
      },
      "text/plain": [
       "10/15 * Epoch (train):   0%|          | 0/375 [00:00<?, ?it/s]"
      ]
     },
     "metadata": {},
     "output_type": "display_data"
    },
    {
     "name": "stdout",
     "output_type": "stream",
     "text": [
      "train (10/15) loss: 0.1884440213839212 | loss/mean: 0.1884440213839212 | loss/std: 0.01247613209473907 | lr: 0.0001 | momentum: 0.9\n"
     ]
    },
    {
     "data": {
      "application/vnd.jupyter.widget-view+json": {
       "model_id": "2ab1201cbc624837827a48dba0302319",
       "version_major": 2,
       "version_minor": 0
      },
      "text/plain": [
       "10/15 * Epoch (valid):   0%|          | 0/8 [00:00<?, ?it/s]"
      ]
     },
     "metadata": {},
     "output_type": "display_data"
    },
    {
     "name": "stdout",
     "output_type": "stream",
     "text": [
      "valid (10/15) loss: 0.40041640028357506 | loss/mean: 0.40041640028357506 | loss/std: 0.012165097011370836 | lr: 0.0001 | momentum: 0.9\n",
      "* Epoch (10/15) \n"
     ]
    },
    {
     "data": {
      "application/vnd.jupyter.widget-view+json": {
       "model_id": "11471fb1f3564bc3884095b0d4895ac3",
       "version_major": 2,
       "version_minor": 0
      },
      "text/plain": [
       "11/15 * Epoch (train):   0%|          | 0/375 [00:00<?, ?it/s]"
      ]
     },
     "metadata": {},
     "output_type": "display_data"
    },
    {
     "name": "stdout",
     "output_type": "stream",
     "text": [
      "train (11/15) loss: 0.17963017696142208 | loss/mean: 0.17963017696142208 | loss/std: 0.012364505855348056 | lr: 0.0001 | momentum: 0.9\n"
     ]
    },
    {
     "data": {
      "application/vnd.jupyter.widget-view+json": {
       "model_id": "b6242474e7474281b8e963280a146005",
       "version_major": 2,
       "version_minor": 0
      },
      "text/plain": [
       "11/15 * Epoch (valid):   0%|          | 0/8 [00:00<?, ?it/s]"
      ]
     },
     "metadata": {},
     "output_type": "display_data"
    },
    {
     "name": "stdout",
     "output_type": "stream",
     "text": [
      "valid (11/15) loss: 0.39879826083779335 | loss/mean: 0.39879826083779335 | loss/std: 0.015210780428344521 | lr: 0.0001 | momentum: 0.9\n",
      "* Epoch (11/15) \n"
     ]
    },
    {
     "data": {
      "application/vnd.jupyter.widget-view+json": {
       "model_id": "df500f0f2a554e5499b66342096a3c2a",
       "version_major": 2,
       "version_minor": 0
      },
      "text/plain": [
       "12/15 * Epoch (train):   0%|          | 0/375 [00:00<?, ?it/s]"
      ]
     },
     "metadata": {},
     "output_type": "display_data"
    },
    {
     "name": "stdout",
     "output_type": "stream",
     "text": [
      "train (12/15) loss: 0.17292505077520995 | loss/mean: 0.17292505077520995 | loss/std: 0.011578791013004538 | lr: 0.0001 | momentum: 0.9\n"
     ]
    },
    {
     "data": {
      "application/vnd.jupyter.widget-view+json": {
       "model_id": "fc2cffaa18634bdc81a83cb986a6f223",
       "version_major": 2,
       "version_minor": 0
      },
      "text/plain": [
       "12/15 * Epoch (valid):   0%|          | 0/8 [00:00<?, ?it/s]"
      ]
     },
     "metadata": {},
     "output_type": "display_data"
    },
    {
     "name": "stdout",
     "output_type": "stream",
     "text": [
      "valid (12/15) loss: 0.3968958370387554 | loss/mean: 0.3968958370387554 | loss/std: 0.014629457075312107 | lr: 0.0001 | momentum: 0.9\n",
      "* Epoch (12/15) \n"
     ]
    },
    {
     "data": {
      "application/vnd.jupyter.widget-view+json": {
       "model_id": "88fd2141171046289b7c26337d7be340",
       "version_major": 2,
       "version_minor": 0
      },
      "text/plain": [
       "13/15 * Epoch (train):   0%|          | 0/375 [00:00<?, ?it/s]"
      ]
     },
     "metadata": {},
     "output_type": "display_data"
    },
    {
     "name": "stdout",
     "output_type": "stream",
     "text": [
      "train (13/15) loss: 0.1650324477354685 | loss/mean: 0.1650324477354685 | loss/std: 0.011632518800617794 | lr: 0.0001 | momentum: 0.9\n"
     ]
    },
    {
     "data": {
      "application/vnd.jupyter.widget-view+json": {
       "model_id": "e12f11b75abb4f1884cdd911d20bc277",
       "version_major": 2,
       "version_minor": 0
      },
      "text/plain": [
       "13/15 * Epoch (valid):   0%|          | 0/8 [00:00<?, ?it/s]"
      ]
     },
     "metadata": {},
     "output_type": "display_data"
    },
    {
     "name": "stdout",
     "output_type": "stream",
     "text": [
      "valid (13/15) loss: 0.39694511890411377 | loss/mean: 0.39694511890411377 | loss/std: 0.015491674527435472 | lr: 0.0001 | momentum: 0.9\n",
      "* Epoch (13/15) \n"
     ]
    },
    {
     "data": {
      "application/vnd.jupyter.widget-view+json": {
       "model_id": "0b9b7ca25b6e4514a58b063fb8315aea",
       "version_major": 2,
       "version_minor": 0
      },
      "text/plain": [
       "14/15 * Epoch (train):   0%|          | 0/375 [00:00<?, ?it/s]"
      ]
     },
     "metadata": {},
     "output_type": "display_data"
    },
    {
     "name": "stdout",
     "output_type": "stream",
     "text": [
      "train (14/15) loss: 0.158389718969663 | loss/mean: 0.158389718969663 | loss/std: 0.012406097472226459 | lr: 0.0001 | momentum: 0.9\n"
     ]
    },
    {
     "data": {
      "application/vnd.jupyter.widget-view+json": {
       "model_id": "191124bcd60b4628a3ba909e5e56346e",
       "version_major": 2,
       "version_minor": 0
      },
      "text/plain": [
       "14/15 * Epoch (valid):   0%|          | 0/8 [00:00<?, ?it/s]"
      ]
     },
     "metadata": {},
     "output_type": "display_data"
    },
    {
     "name": "stdout",
     "output_type": "stream",
     "text": [
      "valid (14/15) loss: 0.3939196653664112 | loss/mean: 0.3939196653664112 | loss/std: 0.014856072045392467 | lr: 0.0001 | momentum: 0.9\n",
      "* Epoch (14/15) \n"
     ]
    },
    {
     "data": {
      "application/vnd.jupyter.widget-view+json": {
       "model_id": "37e3d8de75e4483091156c17ebef2974",
       "version_major": 2,
       "version_minor": 0
      },
      "text/plain": [
       "15/15 * Epoch (train):   0%|          | 0/375 [00:00<?, ?it/s]"
      ]
     },
     "metadata": {},
     "output_type": "display_data"
    },
    {
     "name": "stdout",
     "output_type": "stream",
     "text": [
      "train (15/15) loss: 0.1529349371989569 | loss/mean: 0.1529349371989569 | loss/std: 0.011838074095857982 | lr: 0.0001 | momentum: 0.9\n"
     ]
    },
    {
     "data": {
      "application/vnd.jupyter.widget-view+json": {
       "model_id": "e0e2d7d391cf4ffd888ae71b9dbb0027",
       "version_major": 2,
       "version_minor": 0
      },
      "text/plain": [
       "15/15 * Epoch (valid):   0%|          | 0/8 [00:00<?, ?it/s]"
      ]
     },
     "metadata": {},
     "output_type": "display_data"
    },
    {
     "name": "stdout",
     "output_type": "stream",
     "text": [
      "valid (15/15) loss: 0.3941837400197983 | loss/mean: 0.3941837400197983 | loss/std: 0.01356275512242369 | lr: 0.0001 | momentum: 0.9\n",
      "* Epoch (15/15) \n",
      "Top best models:\n",
      "log1/checkpoints/train.14.pth\t0.3939\n"
     ]
    }
   ],
   "source": [
    "import catalyst.dl as dl\n",
    "import torch.optim as optim\n",
    "\n",
    "config.d_model = 256+128\n",
    "config.d_ff = 2048\n",
    "config.nheads = 4+2\n",
    "config.num_layers = 3\n",
    "config.ctx_size = max(config.nl_max_len, config.code_max_len)\n",
    "config.dropout = 0.1\n",
    "config.num_epochs = 15\n",
    "config.margin = 0.5\n",
    "\n",
    "\n",
    "model = SentenceEmbed(config)\n",
    "\n",
    "runner = dl.SupervisedRunner()\n",
    "runner.train(\n",
    "    model=model,\n",
    "    loaders=loaders,\n",
    "    criterion=TripletLoss(config.margin),\n",
    "#     optimizer=optim.Adam(model.parameters(), lr=1e-4),\n",
    "    optimizer=optim.AdamW(model.parameters(), lr=1e-4, weight_decay=1e-5),\n",
    "    num_epochs=config.num_epochs,\n",
    "    logdir='./log1',\n",
    "    valid_loader='valid',\n",
    "    valid_metric='loss',\n",
    "    verbose=True,\n",
    "#     check=True,\n",
    ")"
   ]
  },
  {
   "cell_type": "code",
   "execution_count": 31,
   "id": "39ed6a26",
   "metadata": {},
   "outputs": [
    {
     "data": {
      "text/plain": [
       "<matplotlib.legend.Legend at 0x7fba15a30cd0>"
      ]
     },
     "execution_count": 31,
     "metadata": {},
     "output_type": "execute_result"
    },
    {
     "data": {
      "image/png": "[encoded data removed]",
      "text/plain": [
       "<Figure size 432x288 with 1 Axes>"
      ]
     },
     "metadata": {
      "needs_background": "light"
     },
     "output_type": "display_data"
    }
   ],
   "source": [
    "import matplotlib.pyplot as plt\n",
    "\n",
    "\n",
    "ldf = pd.read_csv('log1/logs/train.csv')\n",
    "plt.plot(ldf['step'], ldf['loss'], label='train')\n",
    "ldf = pd.read_csv('log1/logs/valid.csv')\n",
    "plt.plot(ldf['step'], ldf['loss'], label='valid')\n",
    "plt.legend()"
   ]
  },
  {
   "cell_type": "code",
   "execution_count": 32,
   "id": "db53083f-98f8-4855-af9a-53212cbb9af4",
   "metadata": {},
   "outputs": [
    {
     "name": "stderr",
     "output_type": "stream",
     "text": [
      "100%|██████████| 8/8 [00:00<00:00, 17.24it/s]\n",
      "100%|██████████| 375/375 [00:09<00:00, 38.71it/s]\n"
     ]
    },
    {
     "data": {
      "text/plain": [
       "True"
      ]
     },
     "execution_count": 32,
     "metadata": {},
     "output_type": "execute_result"
    }
   ],
   "source": [
    "import annoy\n",
    "\n",
    "\n",
    "anns_index = annoy.AnnoyIndex(config.d_model, 'angular')\n",
    "nl_embed = []\n",
    "ii = 0\n",
    "\n",
    "model.eval()\n",
    "with torch.no_grad():\n",
    "    \n",
    "    for batch, _ in tqdm(loaders['valid']):\n",
    "        nl_embed.append(model.embed(batch[0].cuda()).cpu().numpy())\n",
    "        code_embed = model.embed(batch[1].cuda()).cpu().numpy()\n",
    "        for x in code_embed:\n",
    "            anns_index.add_item(ii, x)\n",
    "            ii += 1\n",
    "        \n",
    "    nl_embed = np.vstack(nl_embed)\n",
    "    \n",
    "    for batch, _ in tqdm(loaders['train']):\n",
    "        code_embed = model.embed(batch[1].cuda()).cpu().numpy()\n",
    "        for x in code_embed:\n",
    "            anns_index.add_item(ii, x)\n",
    "            ii += 1\n",
    "        \n",
    "anns_index.build(100)"
   ]
  },
  {
   "cell_type": "code",
   "execution_count": 33,
   "id": "2e1acc8f",
   "metadata": {},
   "outputs": [
    {
     "name": "stdout",
     "output_type": "stream",
     "text": [
      "MAP@10 = 0.20648889554075517\n"
     ]
    }
   ],
   "source": [
    "config.top_n = 10\n",
    "\n",
    "prec_n = []\n",
    "for i, x in enumerate(nl_embed):\n",
    "    nn_indices = anns_index.get_nns_by_vector(x, config.top_n)\n",
    "    pos = nn_indices.index(i) + 1 if i in nn_indices else np.inf\n",
    "    prec_n.append(1 / pos)\n",
    "    \n",
    "    \n",
    "map_n = np.mean(prec_n)\n",
    "print(f'MAP@{config.top_n} = {map_n}')"
   ]
  },
  {
   "cell_type": "code",
   "execution_count": null,
   "id": "0e7de8ba",
   "metadata": {},
   "outputs": [],
   "source": []
  }
 ],
 "metadata": {
  "kernelspec": {
   "display_name": "Python 3 (ipykernel)",
   "language": "python",
   "name": "python3"
  },
  "language_info": {
   "codemirror_mode": {
    "name": "ipython",
    "version": 3
   },
   "file_extension": ".py",
   "mimetype": "text/x-python",
   "name": "python",
   "nbconvert_exporter": "python",
   "pygments_lexer": "ipython3",
   "version": "3.7.11"
  }
 },
 "nbformat": 4,
 "nbformat_minor": 5
}
