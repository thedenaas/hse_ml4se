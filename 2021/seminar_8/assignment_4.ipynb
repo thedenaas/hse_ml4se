{
 "cells": [
  {
   "cell_type": "markdown",
   "id": "18635ec1",
   "metadata": {},
   "source": [
    "# Assignment 4: Text2Code Model\n",
    "\n",
    "Train a transformer model from scratch, beat the baselines.\n",
    "\n",
    "Pay attention to model hyperparams as well as sequence generation procedure.\n",
    "\n",
    "For each sample you generate 5 hypothesis and select the best of them for scoring.\n",
    "\n",
    "**task 1** (2 points) beat baseline CHRF > 20.  \n",
    "**task 2** (2 points) beat baseline CHRF > 30.  \n",
    "**task 3** (2 points) beat baseline CHRF > 40.  \n",
    "\n",
    "**task 4** (2 points): explore a shared vocabulary setting vs seperate vocabularies. Which one is better?  \n",
    "\n",
    "**task 5** (2 points): Try finetuning a pretrained model (e.g. BERT, T5). Cut the last layers if the model doesn't fit into the memory. "
   ]
  },
  {
   "cell_type": "code",
   "execution_count": 70,
   "id": "5bc3b7ea",
   "metadata": {},
   "outputs": [],
   "source": [
    "import datasets\n",
    "import numpy as np\n",
    "import seaborn as sns\n",
    "import pandas as pd\n",
    "from tqdm import tqdm\n",
    "import joblib\n",
    "\n",
    "tqdm.pandas()"
   ]
  },
  {
   "cell_type": "code",
   "execution_count": null,
   "id": "e16901f0",
   "metadata": {},
   "outputs": [],
   "source": [
    "# prepare dataset\n",
    "df = datasets.load_dataset('code_x_glue_tc_text_to_code')\n",
    "\n",
    "df_train, df_valid = df['train'], df['validation']\n",
    "\n",
    "df_train = pd.DataFrame({'nl': df_train['nl'], 'code': df_train['code']})\n",
    "df_valid = pd.DataFrame({'nl': df_valid['nl'], 'code': df_valid['code']})\n",
    "\n",
    "for df in (df_train, df_valid):\n",
    "    df['nl'] = df['nl'].apply(lambda x: x[:x.rfind('.')].strip())\n",
    "    df['code'] = df['code'].apply(str.strip)\n",
    "    \n",
    "df_train = df_train.loc[df_train['nl'].apply(str.split).apply(len) > 3].reset_index(drop=True)\n",
    "print(len(df_train))"
   ]
  },
  {
   "cell_type": "code",
   "execution_count": 2,
   "id": "25388f0f",
   "metadata": {
    "scrolled": true
   },
   "outputs": [
    {
     "name": "stderr",
     "output_type": "stream",
     "text": [
      "Reusing dataset code_x_glue_tc_text_to_code (/home/denis.litvinov/.cache/huggingface/datasets/code_x_glue_tc_text_to_code/default/0.0.0/059898ce5bb35e72c699c69af37020002b38b251734ddaeedef30ae7e6292717)\n"
     ]
    },
    {
     "data": {
      "application/vnd.jupyter.widget-view+json": {
       "model_id": "9623fa5c12324788bc0f80044f98f444",
       "version_major": 2,
       "version_minor": 0
      },
      "text/plain": [
       "  0%|          | 0/3 [00:00<?, ?it/s]"
      ]
     },
     "metadata": {},
     "output_type": "display_data"
    },
    {
     "name": "stdout",
     "output_type": "stream",
     "text": [
      "95785\n"
     ]
    }
   ],
   "source": [
    "with open('nl.txt', 'w') as f:\n",
    "    for x in df_train['nl']:\n",
    "        f.write(x + '\\n')\n",
    "        \n",
    "with open('code.txt', 'w') as f:\n",
    "    for x in df_train['code']:\n",
    "        f.write(x + '\\n')"
   ]
  },
  {
   "cell_type": "code",
   "execution_count": 3,
   "id": "10462585",
   "metadata": {},
   "outputs": [],
   "source": [
    "from dataclasses import dataclass\n",
    "\n",
    "\n",
    "@dataclass\n",
    "class Config:\n",
    "    pass\n",
    "\n",
    "config = Config()\n",
    "config.nl_pad = 0\n",
    "config.code_pad = 0\n",
    "config.nl_vocab_size = # TODO\n",
    "config.code_vocab_size = # TODO\n",
    "\n",
    "nl_tokenizer = # TODO\n",
    "code_tokenizer = # TODO"
   ]
  },
  {
   "cell_type": "code",
   "execution_count": 7,
   "id": "98b53420",
   "metadata": {
    "scrolled": true
   },
   "outputs": [
    {
     "name": "stderr",
     "output_type": "stream",
     "text": [
      "100%|██████████| 95785/95785 [00:11<00:00, 8356.10it/s]\n",
      "100%|██████████| 95785/95785 [00:04<00:00, 21417.84it/s]\n",
      "100%|██████████| 2000/2000 [00:00<00:00, 10420.98it/s]\n",
      "100%|██████████| 2000/2000 [00:00<00:00, 18981.93it/s]\n",
      "100%|██████████| 2000/2000 [00:00<00:00, 10384.60it/s]\n",
      "100%|██████████| 2000/2000 [00:00<00:00, 453806.22it/s]\n"
     ]
    },
    {
     "data": {
      "text/plain": [
       "['df_test']"
      ]
     },
     "execution_count": 7,
     "metadata": {},
     "output_type": "execute_result"
    }
   ],
   "source": [
    "for df in (df_train, df_valid):\n",
    "    df['nl_encoded'] = df['nl'].progress_apply(lambda x: nl_tokenizer.encode(x).ids)\n",
    "    df['code_encoded'] = df['code'].progress_apply(lambda x: code_tokenizer.encode(x).ids)"
   ]
  },
  {
   "cell_type": "code",
   "execution_count": 8,
   "id": "f224854e",
   "metadata": {},
   "outputs": [
    {
     "data": {
      "image/png": "[encoded data removed]",
      "text/plain": [
       "<Figure size 432x288 with 1 Axes>"
      ]
     },
     "metadata": {
      "needs_background": "light"
     },
     "output_type": "display_data"
    }
   ],
   "source": [
    "sns.distplot(df_train['nl_encoded'].apply(len));"
   ]
  },
  {
   "cell_type": "code",
   "execution_count": 9,
   "id": "224ef621",
   "metadata": {},
   "outputs": [
    {
     "data": {
      "image/png": "[encoded data removed]",
      "text/plain": [
       "<Figure size 432x288 with 1 Axes>"
      ]
     },
     "metadata": {
      "needs_background": "light"
     },
     "output_type": "display_data"
    }
   ],
   "source": [
    "sns.distplot(df_train['code_encoded'].apply(len));"
   ]
  },
  {
   "cell_type": "code",
   "execution_count": null,
   "id": "5c0ceeb9",
   "metadata": {},
   "outputs": [],
   "source": [
    "# choose max nl length. It's a tradeoff between memory space utilization and information\n",
    "config.nl_max_len = # TODO\n",
    "config.code_max_len = # TODO"
   ]
  },
  {
   "cell_type": "code",
   "execution_count": 10,
   "id": "597c3687",
   "metadata": {},
   "outputs": [],
   "source": [
    "from torch.utils.data import Dataset, DataLoader\n",
    "import torch\n",
    "\n",
    "\n",
    "class MyDataset(Dataset):\n",
    "    def __init__(self, df, config):\n",
    "        self.df = df\n",
    "        self.config = config\n",
    "        \n",
    "    def __len__(self):\n",
    "        return len(self.df)\n",
    "    \n",
    "    def __getitem__(self, i):\n",
    "        \n",
    "        nl = self.df['nl_encoded'].iloc[i]\n",
    "        code = self.df['code_encoded'].iloc[i]\n",
    "        \n",
    "        # padding\n",
    "        nl = nl[:self.config.nl_max_len] + [self.config.nl_pad]*max(0, self.config.nl_max_len-len(nl))\n",
    "        code = code[:self.config.code_max_len] + [self.config.code_pad]*max(0, self.config.code_max_len-len(code))\n",
    "        \n",
    "        nl = torch.tensor(nl).long()\n",
    "        code = torch.tensor(code).long()\n",
    "        \n",
    "        return (nl, code[:-1]), code[1:]"
   ]
  },
  {
   "cell_type": "code",
   "execution_count": 11,
   "id": "e0ea954a",
   "metadata": {},
   "outputs": [],
   "source": [
    "config.batch_size = # TODO\n",
    "\n",
    "loaders = {\n",
    "    'train': DataLoader(MyDataset(df_train, config), batch_size=config.batch_size, shuffle=True),\n",
    "    'valid': DataLoader(MyDataset(df_valid, config), batch_size=config.batch_size, shuffle=False),\n",
    "}"
   ]
  },
  {
   "cell_type": "code",
   "execution_count": 12,
   "id": "52530cf0",
   "metadata": {},
   "outputs": [],
   "source": [
    "import torch.nn as nn\n",
    "from transformers import BertConfig, EncoderDecoderConfig, EncoderDecoderModel\n",
    "\n",
    "\n",
    "# how to make encoder-decoder model from Huggingface \n",
    "class Text2Code(nn.Module):\n",
    "    def __init__(self, config):\n",
    "        super(Text2Code, self).__init__()\n",
    "        \n",
    "        self.config = config\n",
    "        \n",
    "        enc_config = BertConfig(\n",
    "            # TODO\n",
    "        )\n",
    "        dec_config = BertConfig(\n",
    "            # TODO\n",
    "        )\n",
    "        dec_config.is_decoder = True\n",
    "        dec_config.add_cross_attention = True\n",
    "        \n",
    "        self.encdec = EncoderDecoderModel(\n",
    "            config=EncoderDecoderConfig.from_encoder_decoder_configs(enc_config, dec_config)\n",
    "        )\n",
    "        \n",
    "        # TODO: here you share encoder and decoder embeddings if necessary \n",
    "        \n",
    "    def forward(self, x):\n",
    "        src, tgt = x\n",
    "        \n",
    "        x = self.encdec(src, \n",
    "                        src != self.config.nl_pad, # attention mask\n",
    "                        tgt, \n",
    "                        tgt != self.config.code_pad, # attention mask\n",
    "                        return_dict=True)\n",
    "        x = x.logits.transpose(1,2)\n",
    "        return x\n",
    "        "
   ]
  },
  {
   "cell_type": "code",
   "execution_count": 13,
   "id": "4b29cae7",
   "metadata": {
    "scrolled": true,
    "tags": []
   },
   "outputs": [
    {
     "name": "stderr",
     "output_type": "stream",
     "text": [
      "/home/denis.litvinov/anaconda3/lib/python3.7/site-packages/promise/promise_list.py:2: DeprecationWarning: Using or importing the ABCs from 'collections' instead of from 'collections.abc' is deprecated since Python 3.3,and in 3.9 it will stop working\n",
      "  from collections import Iterable\n"
     ]
    },
    {
     "name": "stdout",
     "output_type": "stream",
     "text": [
      "huggingface/tokenizers: The current process just got forked, after parallelism has already been used. Disabling parallelism to avoid deadlocks...\n",
      "To disable this warning, you can either:\n",
      "\t- Avoid using `tokenizers` before the fork if possible\n",
      "\t- Explicitly set the environment variable TOKENIZERS_PARALLELISM=(true | false)\n",
      "huggingface/tokenizers: The current process just got forked, after parallelism has already been used. Disabling parallelism to avoid deadlocks...\n",
      "To disable this warning, you can either:\n",
      "\t- Avoid using `tokenizers` before the fork if possible\n",
      "\t- Explicitly set the environment variable TOKENIZERS_PARALLELISM=(true | false)\n",
      "huggingface/tokenizers: The current process just got forked, after parallelism has already been used. Disabling parallelism to avoid deadlocks...\n",
      "To disable this warning, you can either:\n",
      "\t- Avoid using `tokenizers` before the fork if possible\n",
      "\t- Explicitly set the environment variable TOKENIZERS_PARALLELISM=(true | false)\n"
     ]
    },
    {
     "name": "stderr",
     "output_type": "stream",
     "text": [
      "/home/denis.litvinov/anaconda3/lib/python3.7/site-packages/botocore/vendored/requests/packages/urllib3/_collections.py:1: DeprecationWarning: Using or importing the ABCs from 'collections' instead of from 'collections.abc' is deprecated since Python 3.3,and in 3.9 it will stop working\n",
      "  from collections import Mapping, MutableMapping\n"
     ]
    },
    {
     "data": {
      "application/vnd.jupyter.widget-view+json": {
       "model_id": "dad5a92d5d7845628e9ae0ee7d80f141",
       "version_major": 2,
       "version_minor": 0
      },
      "text/plain": [
       "1/15 * Epoch (train):   0%|          | 0/375 [00:00<?, ?it/s]"
      ]
     },
     "metadata": {},
     "output_type": "display_data"
    },
    {
     "name": "stdout",
     "output_type": "stream",
     "text": [
      "train (1/15) loss: 7.18411151250203 | loss/mean: 7.18411151250203 | loss/std: 0.6487203144819947 | lr: 0.0001 | momentum: 0.9\n"
     ]
    },
    {
     "data": {
      "application/vnd.jupyter.widget-view+json": {
       "model_id": "23399a56f79a4d7e8ac1fc18464de1f8",
       "version_major": 2,
       "version_minor": 0
      },
      "text/plain": [
       "1/15 * Epoch (valid):   0%|          | 0/8 [00:00<?, ?it/s]"
      ]
     },
     "metadata": {},
     "output_type": "display_data"
    },
    {
     "name": "stdout",
     "output_type": "stream",
     "text": [
      "valid (1/15) loss: 6.715638637542725 | loss/mean: 6.715638637542725 | loss/std: 0.048927480147199755 | lr: 0.0001 | momentum: 0.9\n",
      "* Epoch (1/15) \n"
     ]
    },
    {
     "data": {
      "application/vnd.jupyter.widget-view+json": {
       "model_id": "0a6c69ec20e24452a0909b37e40c68e3",
       "version_major": 2,
       "version_minor": 0
      },
      "text/plain": [
       "2/15 * Epoch (train):   0%|          | 0/375 [00:00<?, ?it/s]"
      ]
     },
     "metadata": {},
     "output_type": "display_data"
    },
    {
     "name": "stdout",
     "output_type": "stream",
     "text": [
      "train (2/15) loss: 5.838479640960694 | loss/mean: 5.838479640960694 | loss/std: 0.29798954547738027 | lr: 0.0001 | momentum: 0.9\n"
     ]
    },
    {
     "data": {
      "application/vnd.jupyter.widget-view+json": {
       "model_id": "9ec75cc16c7a480898e2147db641defc",
       "version_major": 2,
       "version_minor": 0
      },
      "text/plain": [
       "2/15 * Epoch (valid):   0%|          | 0/8 [00:00<?, ?it/s]"
      ]
     },
     "metadata": {},
     "output_type": "display_data"
    },
    {
     "name": "stdout",
     "output_type": "stream",
     "text": [
      "valid (2/15) loss: 5.7724013924598685 | loss/mean: 5.7724013924598685 | loss/std: 0.05657286589370021 | lr: 0.0001 | momentum: 0.9\n",
      "* Epoch (2/15) \n"
     ]
    },
    {
     "data": {
      "application/vnd.jupyter.widget-view+json": {
       "model_id": "03eb03a2a4bc42f08b3f0ce0b181cdbe",
       "version_major": 2,
       "version_minor": 0
      },
      "text/plain": [
       "3/15 * Epoch (train):   0%|          | 0/375 [00:00<?, ?it/s]"
      ]
     },
     "metadata": {},
     "output_type": "display_data"
    },
    {
     "name": "stdout",
     "output_type": "stream",
     "text": [
      "train (3/15) loss: 5.017591190338139 | loss/mean: 5.017591190338139 | loss/std: 0.18718304968503413 | lr: 0.0001 | momentum: 0.9\n"
     ]
    },
    {
     "data": {
      "application/vnd.jupyter.widget-view+json": {
       "model_id": "7921a09bfff14cc097a06788d222eb9f",
       "version_major": 2,
       "version_minor": 0
      },
      "text/plain": [
       "3/15 * Epoch (valid):   0%|          | 0/8 [00:00<?, ?it/s]"
      ]
     },
     "metadata": {},
     "output_type": "display_data"
    },
    {
     "name": "stdout",
     "output_type": "stream",
     "text": [
      "valid (3/15) loss: 5.252163350582123 | loss/mean: 5.252163350582123 | loss/std: 0.060746734249692756 | lr: 0.0001 | momentum: 0.9\n",
      "* Epoch (3/15) \n"
     ]
    },
    {
     "data": {
      "application/vnd.jupyter.widget-view+json": {
       "model_id": "e76e51dbd94f43abbd3c3e6447c16219",
       "version_major": 2,
       "version_minor": 0
      },
      "text/plain": [
       "4/15 * Epoch (train):   0%|          | 0/375 [00:00<?, ?it/s]"
      ]
     },
     "metadata": {},
     "output_type": "display_data"
    },
    {
     "name": "stdout",
     "output_type": "stream",
     "text": [
      "train (4/15) loss: 4.441768369038899 | loss/mean: 4.441768369038899 | loss/std: 0.14387634203044647 | lr: 0.0001 | momentum: 0.9\n"
     ]
    },
    {
     "data": {
      "application/vnd.jupyter.widget-view+json": {
       "model_id": "ee229a5a93734f4c93866531fd95c984",
       "version_major": 2,
       "version_minor": 0
      },
      "text/plain": [
       "4/15 * Epoch (valid):   0%|          | 0/8 [00:00<?, ?it/s]"
      ]
     },
     "metadata": {},
     "output_type": "display_data"
    },
    {
     "name": "stdout",
     "output_type": "stream",
     "text": [
      "valid (4/15) loss: 4.900458753108978 | loss/mean: 4.900458753108978 | loss/std: 0.0672465270497876 | lr: 0.0001 | momentum: 0.9\n",
      "* Epoch (4/15) \n"
     ]
    },
    {
     "data": {
      "application/vnd.jupyter.widget-view+json": {
       "model_id": "7b5fb4ef2eef4d74a7e00b26dfa69eb2",
       "version_major": 2,
       "version_minor": 0
      },
      "text/plain": [
       "5/15 * Epoch (train):   0%|          | 0/375 [00:00<?, ?it/s]"
      ]
     },
     "metadata": {},
     "output_type": "display_data"
    },
    {
     "name": "stdout",
     "output_type": "stream",
     "text": [
      "train (5/15) loss: 3.992025461196898 | loss/mean: 3.992025461196898 | loss/std: 0.12144260826615344 | lr: 0.0001 | momentum: 0.9\n"
     ]
    },
    {
     "data": {
      "application/vnd.jupyter.widget-view+json": {
       "model_id": "ef73bcad3b73449cbef54500d9ee83bf",
       "version_major": 2,
       "version_minor": 0
      },
      "text/plain": [
       "5/15 * Epoch (valid):   0%|          | 0/8 [00:00<?, ?it/s]"
      ]
     },
     "metadata": {},
     "output_type": "display_data"
    },
    {
     "name": "stdout",
     "output_type": "stream",
     "text": [
      "valid (5/15) loss: 4.6611634492874146 | loss/mean: 4.6611634492874146 | loss/std: 0.07400563720307242 | lr: 0.0001 | momentum: 0.9\n",
      "* Epoch (5/15) \n"
     ]
    },
    {
     "data": {
      "application/vnd.jupyter.widget-view+json": {
       "model_id": "5cc96718ac2148f5b98b2937bd056497",
       "version_major": 2,
       "version_minor": 0
      },
      "text/plain": [
       "6/15 * Epoch (train):   0%|          | 0/375 [00:00<?, ?it/s]"
      ]
     },
     "metadata": {},
     "output_type": "display_data"
    },
    {
     "name": "stdout",
     "output_type": "stream",
     "text": [
      "train (6/15) loss: 3.6288410161336278 | loss/mean: 3.6288410161336278 | loss/std: 0.10900842754352384 | lr: 0.0001 | momentum: 0.9\n"
     ]
    },
    {
     "data": {
      "application/vnd.jupyter.widget-view+json": {
       "model_id": "77ae5640decf4de48ab544d8488de31f",
       "version_major": 2,
       "version_minor": 0
      },
      "text/plain": [
       "6/15 * Epoch (valid):   0%|          | 0/8 [00:00<?, ?it/s]"
      ]
     },
     "metadata": {},
     "output_type": "display_data"
    },
    {
     "name": "stdout",
     "output_type": "stream",
     "text": [
      "valid (6/15) loss: 4.4838690757751465 | loss/mean: 4.4838690757751465 | loss/std: 0.07158066179223427 | lr: 0.0001 | momentum: 0.9\n",
      "* Epoch (6/15) \n"
     ]
    },
    {
     "data": {
      "application/vnd.jupyter.widget-view+json": {
       "model_id": "c8458d36d2934072874f40b078efa55a",
       "version_major": 2,
       "version_minor": 0
      },
      "text/plain": [
       "7/15 * Epoch (train):   0%|          | 0/375 [00:00<?, ?it/s]"
      ]
     },
     "metadata": {},
     "output_type": "display_data"
    },
    {
     "name": "stdout",
     "output_type": "stream",
     "text": [
      "train (7/15) loss: 3.3247926654815685 | loss/mean: 3.3247926654815685 | loss/std: 0.10482497700646784 | lr: 0.0001 | momentum: 0.9\n"
     ]
    },
    {
     "data": {
      "application/vnd.jupyter.widget-view+json": {
       "model_id": "68617c8e1f254053a7e3e12c2d56fff5",
       "version_major": 2,
       "version_minor": 0
      },
      "text/plain": [
       "7/15 * Epoch (valid):   0%|          | 0/8 [00:00<?, ?it/s]"
      ]
     },
     "metadata": {},
     "output_type": "display_data"
    },
    {
     "name": "stdout",
     "output_type": "stream",
     "text": [
      "valid (7/15) loss: 4.363085389137268 | loss/mean: 4.363085389137268 | loss/std: 0.07663190526371527 | lr: 0.0001 | momentum: 0.9\n",
      "* Epoch (7/15) \n"
     ]
    },
    {
     "data": {
      "application/vnd.jupyter.widget-view+json": {
       "model_id": "445f02ee952242d1940116a9247f55e9",
       "version_major": 2,
       "version_minor": 0
      },
      "text/plain": [
       "8/15 * Epoch (train):   0%|          | 0/375 [00:00<?, ?it/s]"
      ]
     },
     "metadata": {},
     "output_type": "display_data"
    },
    {
     "name": "stdout",
     "output_type": "stream",
     "text": [
      "train (8/15) loss: 3.06505414326986 | loss/mean: 3.06505414326986 | loss/std: 0.09367752029800029 | lr: 0.0001 | momentum: 0.9\n"
     ]
    },
    {
     "data": {
      "application/vnd.jupyter.widget-view+json": {
       "model_id": "600fded9a1ba4f5b81bcf37d175b802b",
       "version_major": 2,
       "version_minor": 0
      },
      "text/plain": [
       "8/15 * Epoch (valid):   0%|          | 0/8 [00:00<?, ?it/s]"
      ]
     },
     "metadata": {},
     "output_type": "display_data"
    },
    {
     "name": "stdout",
     "output_type": "stream",
     "text": [
      "valid (8/15) loss: 4.266527712345123 | loss/mean: 4.266527712345123 | loss/std: 0.07820980165476882 | lr: 0.0001 | momentum: 0.9\n",
      "* Epoch (8/15) \n"
     ]
    },
    {
     "data": {
      "application/vnd.jupyter.widget-view+json": {
       "model_id": "c22e299d4978463bb44b6819e83babd1",
       "version_major": 2,
       "version_minor": 0
      },
      "text/plain": [
       "9/15 * Epoch (train):   0%|          | 0/375 [00:00<?, ?it/s]"
      ]
     },
     "metadata": {},
     "output_type": "display_data"
    },
    {
     "name": "stdout",
     "output_type": "stream",
     "text": [
      "train (9/15) loss: 2.842353055318194 | loss/mean: 2.842353055318194 | loss/std: 0.09612304337036554 | lr: 0.0001 | momentum: 0.9\n"
     ]
    },
    {
     "data": {
      "application/vnd.jupyter.widget-view+json": {
       "model_id": "714087833e314829a65ea17b5687c1d5",
       "version_major": 2,
       "version_minor": 0
      },
      "text/plain": [
       "9/15 * Epoch (valid):   0%|          | 0/8 [00:00<?, ?it/s]"
      ]
     },
     "metadata": {},
     "output_type": "display_data"
    },
    {
     "name": "stdout",
     "output_type": "stream",
     "text": [
      "valid (9/15) loss: 4.199871301651001 | loss/mean: 4.199871301651001 | loss/std: 0.08317152553075768 | lr: 0.0001 | momentum: 0.9\n",
      "* Epoch (9/15) \n"
     ]
    },
    {
     "data": {
      "application/vnd.jupyter.widget-view+json": {
       "model_id": "57ffbf727fbe4abdb48d30993214c838",
       "version_major": 2,
       "version_minor": 0
      },
      "text/plain": [
       "10/15 * Epoch (train):   0%|          | 0/375 [00:00<?, ?it/s]"
      ]
     },
     "metadata": {},
     "output_type": "display_data"
    },
    {
     "name": "stdout",
     "output_type": "stream",
     "text": [
      "train (10/15) loss: 2.646757908503214 | loss/mean: 2.646757908503214 | loss/std: 0.09741556500178135 | lr: 0.0001 | momentum: 0.9\n"
     ]
    },
    {
     "data": {
      "application/vnd.jupyter.widget-view+json": {
       "model_id": "26c6ccd81ab54fd28d40fc49b888d72b",
       "version_major": 2,
       "version_minor": 0
      },
      "text/plain": [
       "10/15 * Epoch (valid):   0%|          | 0/8 [00:00<?, ?it/s]"
      ]
     },
     "metadata": {},
     "output_type": "display_data"
    },
    {
     "name": "stdout",
     "output_type": "stream",
     "text": [
      "valid (10/15) loss: 4.162543177604675 | loss/mean: 4.162543177604675 | loss/std: 0.08556977636648402 | lr: 0.0001 | momentum: 0.9\n",
      "* Epoch (10/15) \n"
     ]
    },
    {
     "data": {
      "application/vnd.jupyter.widget-view+json": {
       "model_id": "cdb1e85c46bf4aa8854b8ca384e26d22",
       "version_major": 2,
       "version_minor": 0
      },
      "text/plain": [
       "11/15 * Epoch (train):   0%|          | 0/375 [00:00<?, ?it/s]"
      ]
     },
     "metadata": {},
     "output_type": "display_data"
    },
    {
     "name": "stdout",
     "output_type": "stream",
     "text": [
      "train (11/15) loss: 2.472614102045699 | loss/mean: 2.472614102045699 | loss/std: 0.09452890414989903 | lr: 0.0001 | momentum: 0.9\n"
     ]
    },
    {
     "data": {
      "application/vnd.jupyter.widget-view+json": {
       "model_id": "bb263938e07048baa74b1a66de180f4e",
       "version_major": 2,
       "version_minor": 0
      },
      "text/plain": [
       "11/15 * Epoch (valid):   0%|          | 0/8 [00:00<?, ?it/s]"
      ]
     },
     "metadata": {},
     "output_type": "display_data"
    },
    {
     "name": "stdout",
     "output_type": "stream",
     "text": [
      "valid (11/15) loss: 4.13047307729721 | loss/mean: 4.13047307729721 | loss/std: 0.08727868691431526 | lr: 0.0001 | momentum: 0.9\n",
      "* Epoch (11/15) \n"
     ]
    },
    {
     "data": {
      "application/vnd.jupyter.widget-view+json": {
       "model_id": "f4c7c4c661114e369f5fa4923006d0fd",
       "version_major": 2,
       "version_minor": 0
      },
      "text/plain": [
       "12/15 * Epoch (train):   0%|          | 0/375 [00:00<?, ?it/s]"
      ]
     },
     "metadata": {},
     "output_type": "display_data"
    },
    {
     "name": "stdout",
     "output_type": "stream",
     "text": [
      "train (12/15) loss: 2.3165030841827416 | loss/mean: 2.3165030841827416 | loss/std: 0.08985955803047857 | lr: 0.0001 | momentum: 0.9\n"
     ]
    },
    {
     "data": {
      "application/vnd.jupyter.widget-view+json": {
       "model_id": "97aebb6cbfe545049186d2c2d2e193b8",
       "version_major": 2,
       "version_minor": 0
      },
      "text/plain": [
       "12/15 * Epoch (valid):   0%|          | 0/8 [00:00<?, ?it/s]"
      ]
     },
     "metadata": {},
     "output_type": "display_data"
    },
    {
     "name": "stdout",
     "output_type": "stream",
     "text": [
      "valid (12/15) loss: 4.120812922716141 | loss/mean: 4.120812922716141 | loss/std: 0.08530930934773 | lr: 0.0001 | momentum: 0.9\n",
      "* Epoch (12/15) \n"
     ]
    },
    {
     "data": {
      "application/vnd.jupyter.widget-view+json": {
       "model_id": "bddbd933316a444fbbc4b1366901fc9c",
       "version_major": 2,
       "version_minor": 0
      },
      "text/plain": [
       "13/15 * Epoch (train):   0%|          | 0/375 [00:00<?, ?it/s]"
      ]
     },
     "metadata": {},
     "output_type": "display_data"
    },
    {
     "name": "stdout",
     "output_type": "stream",
     "text": [
      "train (13/15) loss: 2.1773170200983682 | loss/mean: 2.1773170200983682 | loss/std: 0.08645459957378711 | lr: 0.0001 | momentum: 0.9\n"
     ]
    },
    {
     "data": {
      "application/vnd.jupyter.widget-view+json": {
       "model_id": "55e4d50b78ad4552b9b21131f38d5aaa",
       "version_major": 2,
       "version_minor": 0
      },
      "text/plain": [
       "13/15 * Epoch (valid):   0%|          | 0/8 [00:00<?, ?it/s]"
      ]
     },
     "metadata": {},
     "output_type": "display_data"
    },
    {
     "name": "stdout",
     "output_type": "stream",
     "text": [
      "valid (13/15) loss: 4.107413679361343 | loss/mean: 4.107413679361343 | loss/std: 0.0856441353079238 | lr: 0.0001 | momentum: 0.9\n",
      "* Epoch (13/15) \n"
     ]
    },
    {
     "data": {
      "application/vnd.jupyter.widget-view+json": {
       "model_id": "8b67d674e58c48c8a6efd17b1cdca6c5",
       "version_major": 2,
       "version_minor": 0
      },
      "text/plain": [
       "14/15 * Epoch (train):   0%|          | 0/375 [00:00<?, ?it/s]"
      ]
     },
     "metadata": {},
     "output_type": "display_data"
    },
    {
     "name": "stdout",
     "output_type": "stream",
     "text": [
      "train (14/15) loss: 2.0476544195810935 | loss/mean: 2.0476544195810935 | loss/std: 0.08931011528836609 | lr: 0.0001 | momentum: 0.9\n"
     ]
    },
    {
     "data": {
      "application/vnd.jupyter.widget-view+json": {
       "model_id": "647a9beb743244b5802147a38aaaed43",
       "version_major": 2,
       "version_minor": 0
      },
      "text/plain": [
       "14/15 * Epoch (valid):   0%|          | 0/8 [00:00<?, ?it/s]"
      ]
     },
     "metadata": {},
     "output_type": "display_data"
    },
    {
     "name": "stdout",
     "output_type": "stream",
     "text": [
      "valid (14/15) loss: 4.118893325328827 | loss/mean: 4.118893325328827 | loss/std: 0.08678093272649151 | lr: 0.0001 | momentum: 0.9\n",
      "* Epoch (14/15) \n"
     ]
    },
    {
     "data": {
      "application/vnd.jupyter.widget-view+json": {
       "model_id": "b70089d9676a46a2a4fee45af2151fd6",
       "version_major": 2,
       "version_minor": 0
      },
      "text/plain": [
       "15/15 * Epoch (train):   0%|          | 0/375 [00:00<?, ?it/s]"
      ]
     },
     "metadata": {},
     "output_type": "display_data"
    },
    {
     "name": "stdout",
     "output_type": "stream",
     "text": [
      "train (15/15) loss: 1.9301211388905841 | loss/mean: 1.9301211388905841 | loss/std: 0.09342873553494654 | lr: 0.0001 | momentum: 0.9\n"
     ]
    },
    {
     "data": {
      "application/vnd.jupyter.widget-view+json": {
       "model_id": "9181c69e9b47483685583784c4c7b5ef",
       "version_major": 2,
       "version_minor": 0
      },
      "text/plain": [
       "15/15 * Epoch (valid):   0%|          | 0/8 [00:00<?, ?it/s]"
      ]
     },
     "metadata": {},
     "output_type": "display_data"
    },
    {
     "name": "stdout",
     "output_type": "stream",
     "text": [
      "valid (15/15) loss: 4.140888452529908 | loss/mean: 4.140888452529908 | loss/std: 0.09529004008639863 | lr: 0.0001 | momentum: 0.9\n",
      "* Epoch (15/15) \n",
      "Top best models:\n",
      "log1/checkpoints/train.13.pth\t4.1074\n"
     ]
    }
   ],
   "source": [
    "import catalyst.dl as dl\n",
    "import torch.optim as optim\n",
    "\n",
    "\n",
    "config.num_epochs = # TODO\n",
    "config.d_model = # TODO\n",
    "# ...\n",
    "\n",
    "\n",
    "\n",
    "model = Text2Code(config)\n",
    "\n",
    "runner = dl.SupervisedRunner()\n",
    "runner.train(\n",
    "    model=model,\n",
    "    loaders=loaders,\n",
    "    criterion=nn.CrossEntropyLoss(ignore_index=config.code_pad), # ignore padding\n",
    "    optimizer=optim.AdamW(model.parameters(), lr=1e-4, weight_decay=1e-5), # Adam + disentangled weight decay\n",
    "    num_epochs=config.num_epochs,\n",
    "    logdir='./log1',\n",
    "    valid_loader='valid',\n",
    "    valid_metric='loss',\n",
    "    verbose=True,\n",
    "#     check=True, # check the pipeline\n",
    ")"
   ]
  },
  {
   "cell_type": "code",
   "execution_count": 48,
   "id": "59c70cba",
   "metadata": {},
   "outputs": [],
   "source": [
    "from sacrebleu import CHRF\n",
    "\n",
    "# CHRF - quality metric\n",
    "# for the purposes of this assignment, we measure CHRF on the validation set\n",
    "chrf = CHRF()\n",
    "\n",
    "valid_loader = DataLoader(MyDataset(df_valid, config), batch_size=config.batch_size, shuffle=False)\n",
    "\n",
    "# set model to eval mode: affects dropout layers\n",
    "model.eval()\n",
    "\n",
    "chrf_scores = []\n",
    "\n",
    "with torch.no_grad():\n",
    "    for batch in valid_loader:\n",
    "        nl = batch[0][0] # encoded text\n",
    "        \n",
    "        # generate 5 hypothesis for each sample\n",
    "        result = model.encdec.generate(\n",
    "                      num_return_sequences=5,\n",
    "                        # TODO: select generation algo\n",
    "                     ).cpu()\n",
    "\n",
    "        for i in tqdm(range(len(nl))):\n",
    "            \n",
    "            ground_truth = code_tokenizer.decode(batch[1][i].cpu().numpy())\n",
    "            \n",
    "            sample_scores = []\n",
    "            for j in range(config.num_beams):\n",
    "                pred = result[i*config.num_beams + j]\n",
    "                pred = pred.cpu().numpy()\n",
    "                pred = code_tokenizer.decode(pred)\n",
    "                \n",
    "                score = chrf.sentence_score(pred, [ground_truth]).score\n",
    "                sample_scores.append(score)\n",
    "            \n",
    "            chrf_scores.append(max(sample_scores))\n",
    "            \n",
    "print(np.mean(chrf_scores))"
   ]
  },
  {
   "cell_type": "code",
   "execution_count": null,
   "id": "07a709fd",
   "metadata": {},
   "outputs": [],
   "source": []
  }
 ],
 "metadata": {
  "kernelspec": {
   "display_name": "Python 3 (ipykernel)",
   "language": "python",
   "name": "python3"
  },
  "language_info": {
   "codemirror_mode": {
    "name": "ipython",
    "version": 3
   },
   "file_extension": ".py",
   "mimetype": "text/x-python",
   "name": "python",
   "nbconvert_exporter": "python",
   "pygments_lexer": "ipython3",
   "version": "3.7.7"
  }
 },
 "nbformat": 4,
 "nbformat_minor": 5
}
